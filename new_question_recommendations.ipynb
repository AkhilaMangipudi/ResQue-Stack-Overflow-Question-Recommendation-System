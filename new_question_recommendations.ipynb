{
 "cells": [
  {
   "cell_type": "code",
   "execution_count": 1,
   "metadata": {},
   "outputs": [],
   "source": [
    "#Given a new question, generate recommendations for that given question\n",
    "\n",
    "#Step 1: Find the word embedding of the question\n",
    "#We expect the question to have both title and body\n",
    "#we expect them to receive ques_title and ques_body\n",
    "\n",
    "import io\n",
    "import pickle\n",
    "import numpy as np\n",
    "\n",
    "def load_vectors(fname):\n",
    "    fin = io.open(fname, 'r', encoding='utf-8', newline='\\n', errors='ignore')\n",
    "    n, d = map(int, fin.readline().split())\n",
    "    data = {}\n",
    "    for line in fin:\n",
    "        tokens = line.rstrip().split(' ')\n",
    "        data[tokens[0]] = np.array(list(map(float, tokens[1:])))\n",
    "    return data\n",
    "\n",
    "fasttext = \"crawl-300d-2M-subword/crawl-300d-2M-subword.vec\"\n",
    "ft_model = load_vectors(fasttext)\n",
    "\n",
    "def words_to_vec(words):\n",
    "    # fasttext vector dimension is 300\n",
    "    vec = np.zeros(300)\n",
    "    for word in words:\n",
    "        if word not in ft_model:\n",
    "            continue\n",
    "        else:\n",
    "            vec += ft_model.get(word)\n",
    "    vec /= len(words)\n",
    "    return vec"
   ]
  },
  {
   "cell_type": "code",
   "execution_count": 37,
   "metadata": {},
   "outputs": [],
   "source": [
    "ques_title = \"Do seals eat shrimp?\"\n",
    "ques_body = \"Seals are a type of semi-aquatic mammal belonging to the suborder Pinnipedia, which also includes walruses. They spend time on land and breathe air, but move much more easily when in the water. There are over 30 species of seals in the world.\"\n",
    "\n",
    "\n",
    "\n"
   ]
  },
  {
   "cell_type": "code",
   "execution_count": 38,
   "metadata": {},
   "outputs": [],
   "source": [
    "\n",
    "title_embedding = words_to_vec(ques_title.split())\n",
    "body_embedding = words_to_vec(ques_body.split())\n",
    "\n",
    "ques_embedding = title_embedding + body_embedding"
   ]
  },
  {
   "cell_type": "code",
   "execution_count": 39,
   "metadata": {},
   "outputs": [],
   "source": [
    "#Step 2: Find the cluster to which this question belongs to\n",
    "#based on the distance of question embeddings from the cluster centers\n",
    "\n",
    "cluster_centers = pickle.load(open(\"clustering/bio_cluster_centers.dat\",\"rb\"))\n",
    "from sklearn.metrics.pairwise import euclidean_distances\n",
    "\n",
    "distances = euclidean_distances(cluster_centers,[ques_embedding])\n",
    "given_ques_cluster = distances.argsort(axis=0)[0][0]"
   ]
  },
  {
   "cell_type": "code",
   "execution_count": 11,
   "metadata": {},
   "outputs": [
    {
     "data": {
      "text/plain": [
       "72"
      ]
     },
     "execution_count": 11,
     "metadata": {},
     "output_type": "execute_result"
    }
   ],
   "source": [
    "given_ques_cluster[0]"
   ]
  },
  {
   "cell_type": "code",
   "execution_count": 34,
   "metadata": {},
   "outputs": [],
   "source": [
    "import pickle\n",
    "import pandas as pd\n",
    "nearby_centers_dict = pickle.load(open(\"models/bio_nearby_centers_dict.dat\",\"rb\"))\n",
    "questions_in_a_cluster_dict = pickle.load(open(\"models/bio_questions_in_a_cluster_dict.dat\",\"rb\"))\n",
    "bio_ques_dict = pickle.load(open(\"clustering/bio_ques_dict.dat\",\"rb\"))\n",
    "input_df = pd.read_csv(\"csv_files/bio_questions.csv\")"
   ]
  },
  {
   "cell_type": "code",
   "execution_count": 40,
   "metadata": {},
   "outputs": [],
   "source": [
    "#generate recommendations for that question\n",
    "#find the nearest 5 clusters to the cluster of the question\n",
    "#accumulate all the questions, run a cosine similarity and output the top 10\n",
    "from sklearn.metrics.pairwise import cosine_similarity\n",
    "\n",
    "total_questions = []\n",
    "recommended_questions = []\n",
    "cluster_label = given_ques_cluster\n",
    "nearby_clusters = nearby_centers_dict[cluster_label]\n",
    "#nearby_clusters is a list\n",
    "for cluster in nearby_clusters:\n",
    "    total_questions.extend(questions_in_a_cluster_dict[cluster])\n",
    "    #total_questions is a list of all questions\n",
    "    #for a given question find cosine similarity with all these questions\n",
    "    cosine_scores = []\n",
    "    for ques in total_questions:\n",
    "        cosine_embedding = cosine_similarity(ques_embedding.reshape(1,-1),bio_ques_dict[ques][0].reshape(1,-1))\n",
    "        cosine_scores.append((ques,(cosine_embedding)[0][0]))\n",
    "    cosine_scores.sort(key=lambda x: x[1],reverse=True)\n",
    "    for tup in cosine_scores[0:11]:\n",
    "        #get the ques_id and its title from the dataframe\n",
    "        #print(tup[0])\n",
    "        recommended_questions.append(input_df.loc[input_df['Id'] == tup[0]]['Title'])\n",
    "        "
   ]
  },
  {
   "cell_type": "code",
   "execution_count": 41,
   "metadata": {},
   "outputs": [
    {
     "data": {
      "text/plain": [
       "[17631    Do Tardigrades preserve water replace water\n",
       " Name: Title, dtype: object, 17377    Do microorganisms contain water\n",
       " Name: Title, dtype: object, 9586    Do saltwater fish need drink\n",
       " Name: Title, dtype: object, 13222    Do macrophages engulf material epidermis\n",
       " Name: Title, dtype: object, 11117    Do fish hold urine deep water\n",
       " Name: Title, dtype: object, 18446    Do mosquitos excrete blood\n",
       " Name: Title, dtype: object, 6908    Do things contain amylase\n",
       " Name: Title, dtype: object, 19686    Do mosquitos vary toxicity\n",
       " Name: Title, dtype: object, 4179    Do organisms recycle waste internally\n",
       " Name: Title, dtype: object, 17043    Do oranges traces starch\n",
       " Name: Title, dtype: object, 9686    Do mitochondria digest fats\n",
       " Name: Title, dtype: object, 17631    Do Tardigrades preserve water replace water\n",
       " Name: Title, dtype: object, 17377    Do microorganisms contain water\n",
       " Name: Title, dtype: object, 15811    Do plants need sleep\n",
       " Name: Title, dtype: object, 9586    Do saltwater fish need drink\n",
       " Name: Title, dtype: object, 20454    Do plants experience following feelings\n",
       " Name: Title, dtype: object, 13222    Do macrophages engulf material epidermis\n",
       " Name: Title, dtype: object, 14343    Do pyrosomes reproduce ways cloning\n",
       " Name: Title, dtype: object, 13303    Do understand proteins work\n",
       " Name: Title, dtype: object, 2941    Do spouses begin share genes time\n",
       " Name: Title, dtype: object, 11117    Do fish hold urine deep water\n",
       " Name: Title, dtype: object, 910    Do plants photosynthesize equal efficiency\n",
       " Name: Title, dtype: object, 17631    Do Tardigrades preserve water replace water\n",
       " Name: Title, dtype: object, 17377    Do microorganisms contain water\n",
       " Name: Title, dtype: object, 11431    Do know complete list nutrients humans must ingest live\n",
       " Name: Title, dtype: object, 15811    Do plants need sleep\n",
       " Name: Title, dtype: object, 9586    Do saltwater fish need drink\n",
       " Name: Title, dtype: object, 20454    Do plants experience following feelings\n",
       " Name: Title, dtype: object, 13222    Do macrophages engulf material epidermis\n",
       " Name: Title, dtype: object, 14343    Do pyrosomes reproduce ways cloning\n",
       " Name: Title, dtype: object, 13303    Do understand proteins work\n",
       " Name: Title, dtype: object, 2941    Do spouses begin share genes time\n",
       " Name: Title, dtype: object, 11117    Do fish hold urine deep water\n",
       " Name: Title, dtype: object, 17631    Do Tardigrades preserve water replace water\n",
       " Name: Title, dtype: object, 17377    Do microorganisms contain water\n",
       " Name: Title, dtype: object, 15781    Do mosquitoes squeeze\n",
       " Name: Title, dtype: object, 11431    Do know complete list nutrients humans must ingest live\n",
       " Name: Title, dtype: object, 15811    Do plants need sleep\n",
       " Name: Title, dtype: object, 9586    Do saltwater fish need drink\n",
       " Name: Title, dtype: object, 19019    Do hornets remember recognize human Do kind memory\n",
       " Name: Title, dtype: object, 20454    Do plants experience following feelings\n",
       " Name: Title, dtype: object, 15894    Do Cooper Hawks eat fish\n",
       " Name: Title, dtype: object, 13222    Do macrophages engulf material epidermis\n",
       " Name: Title, dtype: object, 7275    Do butterflies see behind\n",
       " Name: Title, dtype: object, 17631    Do Tardigrades preserve water replace water\n",
       " Name: Title, dtype: object, 17377    Do microorganisms contain water\n",
       " Name: Title, dtype: object, 15781    Do mosquitoes squeeze\n",
       " Name: Title, dtype: object, 11431    Do know complete list nutrients humans must ingest live\n",
       " Name: Title, dtype: object, 15811    Do plants need sleep\n",
       " Name: Title, dtype: object, 9586    Do saltwater fish need drink\n",
       " Name: Title, dtype: object, 19019    Do hornets remember recognize human Do kind memory\n",
       " Name: Title, dtype: object, 20454    Do plants experience following feelings\n",
       " Name: Title, dtype: object, 15894    Do Cooper Hawks eat fish\n",
       " Name: Title, dtype: object, 13222    Do macrophages engulf material epidermis\n",
       " Name: Title, dtype: object, 7275    Do butterflies see behind\n",
       " Name: Title, dtype: object, 7667    Do instinctially interpret birdsongs sign predators present\n",
       " Name: Title, dtype: object, 17631    Do Tardigrades preserve water replace water\n",
       " Name: Title, dtype: object, 17377    Do microorganisms contain water\n",
       " Name: Title, dtype: object, 15781    Do mosquitoes squeeze\n",
       " Name: Title, dtype: object, 11431    Do know complete list nutrients humans must ingest live\n",
       " Name: Title, dtype: object, 15811    Do plants need sleep\n",
       " Name: Title, dtype: object, 16464    Do creatures exist stop hearing\n",
       " Name: Title, dtype: object, 9586    Do saltwater fish need drink\n",
       " Name: Title, dtype: object, 17100    Do prey animals fail see incoming pythonssnakes\n",
       " Name: Title, dtype: object, 19019    Do hornets remember recognize human Do kind memory\n",
       " Name: Title, dtype: object, 16353    Do human women smell different enter labour\n",
       " Name: Title, dtype: object]"
      ]
     },
     "execution_count": 41,
     "metadata": {},
     "output_type": "execute_result"
    }
   ],
   "source": [
    "pd.set_option('display.max_colwidth',1000)\n",
    "recommended_questions"
   ]
  },
  {
   "cell_type": "code",
   "execution_count": null,
   "metadata": {},
   "outputs": [],
   "source": []
  }
 ],
 "metadata": {
  "kernelspec": {
   "display_name": "Python 3",
   "language": "python",
   "name": "python3"
  },
  "language_info": {
   "codemirror_mode": {
    "name": "ipython",
    "version": 3
   },
   "file_extension": ".py",
   "mimetype": "text/x-python",
   "name": "python",
   "nbconvert_exporter": "python",
   "pygments_lexer": "ipython3",
   "version": "3.7.0"
  }
 },
 "nbformat": 4,
 "nbformat_minor": 2
}
