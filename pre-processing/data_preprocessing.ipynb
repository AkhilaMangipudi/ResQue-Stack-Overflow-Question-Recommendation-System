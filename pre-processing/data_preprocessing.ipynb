{
 "cells": [
  {
   "cell_type": "code",
   "execution_count": 1,
   "metadata": {},
   "outputs": [],
   "source": [
    "#Parse the Posts.xml file to get Question and answer formation\n",
    "import xml.etree.ElementTree as ET\n",
    "tree = ET.parse('../IR_datasets/cs.stackexchange.com/Posts.xml')\n",
    "root = tree.getroot()"
   ]
  },
  {
   "cell_type": "code",
   "execution_count": 2,
   "metadata": {},
   "outputs": [
    {
     "data": {
      "text/plain": [
       "'posts'"
      ]
     },
     "execution_count": 2,
     "metadata": {},
     "output_type": "execute_result"
    }
   ],
   "source": [
    "root.tag"
   ]
  },
  {
   "cell_type": "code",
   "execution_count": 3,
   "metadata": {},
   "outputs": [],
   "source": [
    "#Pre-process the sentence by removing all the HTML tags and stopwords\n",
    "from bs4 import BeautifulSoup\n",
    "import re\n",
    "import string\n",
    "from nltk.tokenize import word_tokenize\n",
    "from nltk.corpus import stopwords\n",
    "\n",
    "stop_words = set(stopwords.words('english'))\n",
    "\n",
    "#this translator is used to remove the punctuation\n",
    "translator = str.maketrans('', '', string.punctuation)\n",
    "\n",
    "def sentencePreProcess(body):\n",
    "    #this removes all the HTML tags\n",
    "    clean_body = BeautifulSoup(body,\"lxml\").text\n",
    "    #this removes all the punctuation\n",
    "    clean_body = clean_body.translate(translator)\n",
    "    #tokenize the given sentence\n",
    "    word_tokens = word_tokenize(clean_body)\n",
    "    #remove the stop words\n",
    "    filtered_sentence = [w for w in word_tokens if not w in stop_words]\n",
    "    #convert from list to sentence\n",
    "    body = ' '.join(word for word in filtered_sentence)\n",
    "    return body"
   ]
  },
  {
   "cell_type": "code",
   "execution_count": 5,
   "metadata": {},
   "outputs": [],
   "source": [
    "import csv\n",
    "\n",
    "#creates the CSV files for questions and answers\n",
    "#root: root of the XML tree\n",
    "#quesFileName: question csv file name along with the path\n",
    "#ansFileName: answer-csv file name along with the path\n",
    "def createCSV(root,quesFileName,ansFileName):\n",
    "    with open(quesFileName,mode='w',encoding='utf-8') as ques_file, open(ansFileName,mode='w',encoding='utf-8') as ans_file:\n",
    "        ques_file = csv.writer(ques_file, delimiter=',')\n",
    "        ans_file = csv.writer(ans_file, delimiter=',')\n",
    "        ques_file.writerow(['Id','Body','AcceptedAnswerId','Score','ViewCount','Title','Tags','AnswerCount','CommentCount','FavoriteCount'])\n",
    "        ans_file.writerow(['Id', 'ParentId','Score','Body','CommentCount'])\n",
    "        for row in root.findall('row'):\n",
    "            post_type_id = row.get(\"PostTypeId\")\n",
    "            if(post_type_id == \"1\"):\n",
    "                #It is a question\n",
    "                post_id = row.get('Id')\n",
    "                body = sentencePreProcess(row.get('Body'))\n",
    "                accepted_answer_id = row.get('AcceptedAnswerId')\n",
    "                score = row.get('Score')\n",
    "                view_count = row.get('ViewCount')\n",
    "                title = sentencePreProcess(row.get('Title'))\n",
    "                tags = sentencePreProcess(row.get('Tags'))\n",
    "                answer_count = row.get('AnswerCount')\n",
    "                comment_count = row.get('CommentCount')\n",
    "                fav_count = row.get('FavoriteCount')\n",
    "                ques_file.writerow([post_id,body,accepted_answer_id,score,view_count,title,tags,answer_count,comment_count,fav_count])\n",
    "            elif(post_type_id == \"2\"):\n",
    "                #it is an answer\n",
    "                post_id = row.get('Id')\n",
    "                parent_id = row.get('ParentId')\n",
    "                score = row.get('Score')\n",
    "                body = sentencePreProcess(row.get('Body'))\n",
    "                comment_count = row.get('CommentCount')\n",
    "                ans_file.writerow([post_id,parent_id,score,body,comment_count])\n",
    "    \n",
    "    \n",
    "    "
   ]
  },
  {
   "cell_type": "code",
   "execution_count": 6,
   "metadata": {},
   "outputs": [],
   "source": [
    "createCSV(root,\"../csv_files/CS_questions.csv\",\"../csv_files/CS_answers.csv\")"
   ]
  }
 ],
 "metadata": {
  "kernelspec": {
   "display_name": "Python 3",
   "language": "python",
   "name": "python3"
  },
  "language_info": {
   "codemirror_mode": {
    "name": "ipython",
    "version": 3
   },
   "file_extension": ".py",
   "mimetype": "text/x-python",
   "name": "python",
   "nbconvert_exporter": "python",
   "pygments_lexer": "ipython3",
   "version": "3.6.8"
  }
 },
 "nbformat": 4,
 "nbformat_minor": 2
}
