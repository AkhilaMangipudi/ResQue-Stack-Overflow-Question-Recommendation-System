{
 "cells": [
  {
   "cell_type": "code",
   "execution_count": 2,
   "metadata": {},
   "outputs": [],
   "source": [
    "#Load the dat files for embeddings\n",
    "#Load the dat files from pickle\n",
    "import pickle\n",
    "cs_q_title_embeddings = pickle.load(open(\"../embeddings/cs_q_title_embeddings.dat\",\"rb\"))\n",
    "cs_q_body_embeddings = pickle.load(open(\"../embeddings/cs_q_body_embeddings.dat\",\"rb\"))\n",
    "cs_q_tags_embeddings = pickle.load(open(\"../embeddings/cs_q_tags_embeddings.dat\",\"rb\"))"
   ]
  },
  {
   "cell_type": "code",
   "execution_count": 3,
   "metadata": {},
   "outputs": [],
   "source": [
    "#question_list is a list of dictionaries\n",
    "#Each dict represents a Question with\n",
    "# 'id': question_id, 'embedding': ques_embedding\n",
    "#Each question embedding is formed by adding its title, tag and body embeddings\n",
    "#after clustering, label will also be added\n",
    "\n",
    "import numpy as np\n",
    "def makeQuesList(q_title_embeddings,q_body_embeddings,q_tags_embeddings):\n",
    "    question_list = []\n",
    "    for key, value in q_body_embeddings.items():\n",
    "        body_embedding = value\n",
    "        title_embedding = np.zeros(300)\n",
    "        tag_embedding = np.zeros(300)\n",
    "        if key in q_title_embeddings:\n",
    "        #this question has a title\n",
    "            title_embedding = q_title_embeddings[key]\n",
    "        if key in q_tags_embeddings:\n",
    "        #this question has a tag\n",
    "            tag_embedding = q_tags_embeddings[key]\n",
    "        final_embedding = body_embedding + title_embedding + tag_embedding\n",
    "        question_list.append({'id':key, 'embedding': final_embedding})\n",
    "    return question_list"
   ]
  },
  {
   "cell_type": "code",
   "execution_count": 4,
   "metadata": {},
   "outputs": [],
   "source": [
    "cs_question_list = makeQuesList(cs_q_title_embeddings,cs_q_body_embeddings,cs_q_tags_embeddings)"
   ]
  },
  {
   "cell_type": "code",
   "execution_count": 5,
   "metadata": {},
   "outputs": [
    {
     "name": "stdout",
     "output_type": "stream",
     "text": [
      "{'id': 2, 'embedding': array([-3.53025000e-02, -5.88571429e-02,  1.12804643e-01, -1.31350000e-02,\n",
      "        9.63678571e-03, -4.83892857e-02,  2.24217143e-01, -3.19928571e-03,\n",
      "        1.88492857e-02, -8.04103571e-02,  1.08496429e-02,  1.72942857e-02,\n",
      "       -1.14310714e-02, -3.25107143e-03, -8.45928571e-03, -3.80775000e-02,\n",
      "        3.83253571e-02,  2.21325000e-02, -3.14285714e-04,  6.46350000e-02,\n",
      "        4.48892857e-02, -3.79928571e-03,  3.86735714e-02,  1.10646429e-02,\n",
      "        6.45832143e-02,  5.36653571e-02, -1.03882143e-01,  2.90725000e-02,\n",
      "       -5.22021429e-02,  9.52642857e-03,  3.12564286e-02, -2.71410714e-02,\n",
      "        6.84892857e-03, -1.65489286e-02,  5.81928571e-02,  2.71571429e-03,\n",
      "        3.10903571e-02, -4.23142857e-02,  3.90328571e-02, -4.33992857e-02,\n",
      "       -1.32500000e-03, -1.83447857e-01,  2.55825000e-02, -3.99214286e-03,\n",
      "       -6.13092857e-02,  1.67587143e-01, -4.88778571e-02, -2.59650000e-02,\n",
      "       -1.03557143e-02,  2.86871429e-02, -7.65178571e-03, -1.20146429e-02,\n",
      "        6.32800000e-02,  3.39978571e-02, -9.70528571e-02,  1.21014286e-02,\n",
      "        5.87071429e-03, -3.91592857e-02, -2.02395714e-01,  5.44621429e-02,\n",
      "       -3.82142857e-05,  2.55135714e-02, -7.04121429e-02, -2.24750000e-03,\n",
      "       -8.38039286e-02,  7.04857143e-03,  2.88657143e-02, -8.34467857e-02,\n",
      "        4.71371429e-02,  1.76492857e-02, -1.06203571e-02, -5.98510714e-02,\n",
      "        2.04071429e-03, -2.84142857e-02, -7.14464286e-03, -1.60396429e-02,\n",
      "       -4.23375000e-02,  2.52142857e-03,  7.36282143e-02,  2.29485714e-02,\n",
      "        6.27728571e-02,  3.44535714e-03, -2.00118214e-01,  1.22557143e-02,\n",
      "        8.62500000e-04,  1.61642857e-03,  2.49714286e-03, -2.16725000e-02,\n",
      "        8.37464286e-03,  1.75007143e-02, -1.00796429e-02,  3.12160714e-02,\n",
      "       -8.16625000e-02,  2.72682143e-02, -9.04035714e-03,  4.27632143e-01,\n",
      "       -4.51142857e-03,  4.01560714e-02,  2.29314286e-02, -2.38964286e-03,\n",
      "       -4.99092857e-02,  3.19267857e-02,  5.17442857e-02, -7.64785714e-03,\n",
      "       -2.31350000e-02,  2.08496429e-02,  6.61035714e-03, -1.95796429e-02,\n",
      "        5.46675000e-02,  2.66535714e-03, -2.38035714e-02, -2.39007143e-02,\n",
      "        2.75000000e-03, -4.40653571e-02, -3.20807143e-02, -4.29553571e-02,\n",
      "       -5.27439286e-02, -5.83357143e-03,  3.08567857e-02, -3.36089643e-01,\n",
      "       -1.02621429e-02, -1.82928571e-03, -2.62567857e-02, -2.55767857e-02,\n",
      "       -2.29021429e-02, -2.96857143e-03, -1.83035714e-03,  6.75428571e-03,\n",
      "        6.97285714e-03, -2.16114286e-02, -8.18892857e-03, -4.19867857e-02,\n",
      "       -1.77050000e-02,  1.95689286e-02,  6.92571429e-03,  2.05732143e-02,\n",
      "        6.50428571e-03, -3.49250000e-03, -8.40000000e-03,  2.18750000e-03,\n",
      "        7.16607143e-03, -7.42857143e-04,  3.95000000e-02,  2.83250000e-02,\n",
      "        2.82142857e-03,  2.87139286e-02, -9.44357143e-03, -7.18857143e-03,\n",
      "        2.37264286e-02, -2.71428571e-04, -8.99035714e-03, -2.06285714e-02,\n",
      "       -3.65071429e-03, -3.16592857e-02,  6.79892857e-03, -1.85592857e-02,\n",
      "        6.44464286e-03, -3.55367857e-02,  5.68885714e-02, -3.17289286e-02,\n",
      "        2.74742857e-02,  6.11578571e-02, -1.63860714e-02, -1.64035714e-03,\n",
      "       -3.35203571e-02,  7.90150000e-02, -7.08857143e-03, -4.83535714e-03,\n",
      "        1.16782143e-02, -3.93771429e-02,  1.15714286e-03,  2.72325000e-02,\n",
      "       -1.06178571e-02, -2.20896429e-02, -1.58642857e-02,  2.04910714e-02,\n",
      "       -1.52821429e-03, -3.23207143e-02, -3.76528571e-02, -4.46967857e-02,\n",
      "       -7.95725000e-02, -6.15321429e-03, -5.01071429e-04, -9.62596429e-02,\n",
      "       -1.60575000e-01, -1.11357143e-03,  2.28946429e-02,  9.11428571e-03,\n",
      "        2.39042857e-02,  2.75464286e-03,  3.85403571e-02, -6.69014286e-02,\n",
      "       -5.21678571e-02, -1.86878571e-02, -9.02892857e-03,  3.38010714e-02,\n",
      "        1.09914643e-01, -4.78553571e-02,  7.19285714e-04,  1.51260714e-02,\n",
      "       -2.46265714e-01, -1.01285714e-03, -4.06421429e-02,  1.03975000e-02,\n",
      "        1.23275000e-02,  4.31860714e-02, -3.77678571e-02, -1.17146429e-02,\n",
      "       -4.85125000e-02, -5.32750000e-03, -2.17619643e-01, -1.81339286e-02,\n",
      "        6.35428571e-02,  4.93142857e-03, -2.57632143e-02, -1.50953571e-02,\n",
      "        3.56517857e-02,  6.68642857e-03, -1.20027143e-01, -5.96785714e-04,\n",
      "       -1.40514286e-02, -2.07307143e-02, -2.93175000e-02, -2.30496429e-02,\n",
      "        2.52530000e-01, -3.33646429e-02,  2.53532143e-02,  1.03555000e-01,\n",
      "       -1.21217857e-02,  1.00642857e-02, -5.33175000e-02, -5.42535714e-03,\n",
      "        7.66428571e-03,  1.37564286e-02, -3.26535714e-03, -2.41717857e-02,\n",
      "        2.82000000e-03,  4.30271429e-02, -2.06303571e-02, -2.76214286e-02,\n",
      "       -7.42285714e-03, -5.36428571e-03,  2.38835714e-02,  7.58178571e-03,\n",
      "        9.47821429e-03,  4.44696429e-02, -1.37650000e-02, -2.82464286e-02,\n",
      "        6.00328571e-02, -4.46114286e-02,  5.09317857e-02, -2.27728571e-02,\n",
      "        1.23478571e-02, -5.98214286e-03,  3.65932143e-02,  3.08892857e-03,\n",
      "        5.88892857e-03,  1.90967857e-02,  7.33357143e-03,  2.76471429e-02,\n",
      "        1.76064286e-02,  5.49285714e-03, -1.67825000e-02,  1.97464286e-03,\n",
      "        4.55321429e-03, -2.07864286e-02,  2.33714286e-03,  2.83642857e-03,\n",
      "       -5.06457143e-02,  2.75578571e-02, -2.42889286e-02, -6.96607143e-03,\n",
      "       -5.62853571e-02,  3.39939286e-02,  3.32982143e-02,  2.26457143e-02,\n",
      "       -5.03800000e-02,  7.83142857e-03,  9.75000000e-04, -2.70285714e-03,\n",
      "        4.20617857e-02,  1.79821429e-02, -5.67035714e-03, -4.60857143e-03,\n",
      "       -4.04335714e-02,  2.61107143e-02, -4.93778571e-02, -5.42517857e-02,\n",
      "       -1.10310714e-02,  2.08000000e-03, -4.88428571e-03,  2.13196429e-02,\n",
      "       -6.30564286e-02, -2.20142857e-02,  5.86714286e-03,  1.05804643e-01,\n",
      "        1.03864286e-02, -1.70875000e-02, -2.86160714e-02, -3.45971429e-02])}\n"
     ]
    }
   ],
   "source": [
    "#Sample question in the question_list\n",
    "print(cs_question_list[0])"
   ]
  },
  {
   "cell_type": "code",
   "execution_count": 6,
   "metadata": {},
   "outputs": [],
   "source": [
    "#Clustering\n",
    "#For clustering, we only need the question embeddings\n",
    "#Make an array of just the question_embeddings to give \n",
    "#as input to clustering algorithm\n",
    "\n",
    "def makeQuesEmbeddingsArray(question_list):\n",
    "    ques_embeddings = np.zeros((len(question_list),300))\n",
    "    for i in range(len(question_list)):\n",
    "        ques_embeddings[i,:] = question_list[i]['embedding']\n",
    "    return ques_embeddings"
   ]
  },
  {
   "cell_type": "code",
   "execution_count": 7,
   "metadata": {},
   "outputs": [],
   "source": [
    "cs_ques_embeddings = makeQuesEmbeddingsArray(cs_question_list)\n",
    "\n",
    "#This goes as input to the clustering algorithm"
   ]
  },
  {
   "cell_type": "code",
   "execution_count": 8,
   "metadata": {},
   "outputs": [
    {
     "name": "stdout",
     "output_type": "stream",
     "text": [
      "Input to clustering algorithm shape:  (29375, 300)\n"
     ]
    }
   ],
   "source": [
    "print(\"Input to clustering algorithm shape: \",cs_ques_embeddings.shape)"
   ]
  },
  {
   "cell_type": "code",
   "execution_count": null,
   "metadata": {},
   "outputs": [],
   "source": [
    "#Clustering\n",
    "from sklearn.cluster import AffinityPropagation\n",
    "clustering = AffinityPropagation().fit(cs_ques_embeddings)"
   ]
  },
  {
   "cell_type": "code",
   "execution_count": null,
   "metadata": {},
   "outputs": [],
   "source": [
    "#Append the labels of each question to the ques dict\n",
    "for i in range(len(cs_question_list)):\n",
    "        cs_question_list[i]['label'] = clustering.labels_[i]"
   ]
  },
  {
   "cell_type": "code",
   "execution_count": null,
   "metadata": {},
   "outputs": [],
   "source": [
    "#save the cluster centers\n",
    "pickle.dump(clustering.cluster_centers_,open(\"cs_cluster_centers.dat\",\"wb\"))\n",
    "pickle.dump(clustering.cluster_centers_indices_,open(\"cs_cluster_centers_indices.dat\",\"wb\"))\n",
    "\n",
    "#save the question_list\n",
    "pickle.dump(cs_question_list,open(\"cs_question_list.dat\",\"wb\"))"
   ]
  }
 ],
 "metadata": {
  "kernelspec": {
   "display_name": "Python 3",
   "language": "python",
   "name": "python3"
  },
  "language_info": {
   "codemirror_mode": {
    "name": "ipython",
    "version": 3
   },
   "file_extension": ".py",
   "mimetype": "text/x-python",
   "name": "python",
   "nbconvert_exporter": "python",
   "pygments_lexer": "ipython3",
   "version": "3.6.8"
  }
 },
 "nbformat": 4,
 "nbformat_minor": 2
}
