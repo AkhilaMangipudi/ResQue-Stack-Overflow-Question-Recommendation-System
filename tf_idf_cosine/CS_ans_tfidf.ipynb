{
  "nbformat": 4,
  "nbformat_minor": 0,
  "metadata": {
    "colab": {
      "name": "CS_ans_tfidf.ipynb",
      "version": "0.3.2",
      "provenance": [],
      "collapsed_sections": []
    },
    "kernelspec": {
      "name": "python3",
      "display_name": "Python 3"
    },
    "accelerator": "GPU"
  },
  "cells": [
    {
      "metadata": {
        "id": "cRLsjJ25bzN9",
        "colab_type": "code",
        "outputId": "bdad5bcc-f5a7-4cb0-8a0f-5809c81055f8",
        "colab": {
          "base_uri": "https://localhost:8080/",
          "height": 34
        }
      },
      "cell_type": "code",
      "source": [
        "import pandas as pd\n",
        "import numpy as np\n",
        "from sklearn.feature_extraction.text import TfidfVectorizer\n",
        "from sklearn.metrics.pairwise import linear_kernel\n",
        "import tqdm as tqdm\n",
        "from collections import defaultdict\n",
        "import pickle as pickle\n",
        "\n",
        "def get_tfidf(column):\n",
        "\ttfidf_vectorizer = TfidfVectorizer(stop_words =\"english\")\n",
        "\ttfidf_matrix = tfidf_vectorizer.fit_transform(column.values.astype(str))\n",
        "\treturn tfidf_matrix\n",
        "\n",
        "def find_similar(tfidf_matrix, index, top_n = 20):\n",
        "    cosine_similarities = linear_kernel(tfidf_matrix[index:index+1], tfidf_matrix).flatten()\n",
        "    related_docs_indices = [i for i in cosine_similarities.argsort()[::-1] if i != index]\n",
        "    return [(index, cosine_similarities[index]) for index in related_docs_indices][0:top_n]\n",
        "\n",
        "def save_obj(obj, name ):\n",
        "    with open(name + '.pkl', 'wb') as f:\n",
        "        pickle.dump(obj, f, pickle.HIGHEST_PROTOCOL)\n",
        "\n",
        "def load_obj(name ):\n",
        "    with open(name + '.pkl', 'rb') as f:\n",
        "        return pickle.load(f)\t\n",
        "\n",
        "answers_file = \"CS_answers.csv\"\n",
        "df = pd.read_csv(answers_file)\n",
        "saved_column = df.Body #you can also use df['column_name']\n",
        "saved_column.fillna(\" \")\n",
        "tfidf_answers = get_tfidf(saved_column)\n",
        "\n",
        "answers_rec_dict = defaultdict(list)\n",
        "for i in tqdm.tqdm(range(saved_column.shape[0])):\n",
        "    for index, score in find_similar(tfidf_answers, i):\n",
        "        if df['ParentId'][i] in answers_rec_dict:\n",
        "            (answers_rec_dict[df['ParentId'][i]]).append((df['ParentId'][index],score))\n",
        "        else:\n",
        "            answers_rec_dict[df['ParentId'][i]] = [(df['ParentId'][index],score)]\n",
        "\n",
        "save_obj(answers_rec_dict,\"tf_idf_cs_answers_rec\")"
      ],
      "execution_count": 1,
      "outputs": [
        {
          "output_type": "stream",
          "text": [
            "100%|██████████| 35056/35056 [50:08<00:00, 11.65it/s]\n"
          ],
          "name": "stderr"
        }
      ]
    },
    {
      "metadata": {
        "id": "QzQQooBEb3Nd",
        "colab_type": "code",
        "colab": {}
      },
      "cell_type": "code",
      "source": [
        "\n",
        "import pandas as pd\n",
        "postlinksDF = pd.read_csv('postlinks.csv')"
      ],
      "execution_count": 0,
      "outputs": []
    },
    {
      "metadata": {
        "id": "F5cdmBFAn1xc",
        "colab_type": "code",
        "outputId": "0c9e0242-13fb-499d-b23d-e1b7256161b2",
        "colab": {
          "base_uri": "https://localhost:8080/",
          "height": 34
        }
      },
      "cell_type": "code",
      "source": [
        "import tqdm \n",
        "#final list of dict to keep track of related post ids and answer ids for each question id\n",
        "postLinks = []\n",
        "#to keep track of questions that were already encountered\n",
        "posts = [] \n",
        "\n",
        "for index, row in tqdm.tqdm(postlinksDF.iterrows()):\n",
        "    temp = {'postID': None,'relatedID': [],'answerID': [] } \n",
        "    temp['postID'] = row['PostId']\n",
        "    if(row['PostId'] in posts and len(posts)!=0):\n",
        "        for i in range(0,len(posts)):\n",
        "            if(row['PostId'] == postLinks[i]['postID']):\n",
        "                postLinks[i]['relatedID'].append(row[\"RelatedPostId\"])\n",
        "                postLinks[i]['answerID'].append(row[\"Id\"])\n",
        "    else:  \n",
        "        temp['relatedID'].append(row[\"RelatedPostId\"])\n",
        "        temp['answerID'].append(row[\"Id\"])   \n",
        "        posts.append(temp['postID'])\n",
        "        postLinks.append(temp)"
      ],
      "execution_count": 3,
      "outputs": [
        {
          "output_type": "stream",
          "text": [
            "9855it [02:14, 73.14it/s]\n"
          ],
          "name": "stderr"
        }
      ]
    },
    {
      "metadata": {
        "id": "-cgIT1gEn10b",
        "colab_type": "code",
        "colab": {}
      },
      "cell_type": "code",
      "source": [
        "import pickle as pickle\n",
        "\n",
        "def load_obj(name ):\n",
        "    with open(name + '.pkl', 'rb') as f:\n",
        "        return pickle.load(f)\n",
        "\n",
        "tf_idf_cs_ques_rec = load_obj(\"tf_idf_cs_ques_rec\")\n",
        "tf_idf_answers_rec = load_obj(\"tf_idf_cs_answers_rec\")"
      ],
      "execution_count": 0,
      "outputs": []
    },
    {
      "metadata": {
        "id": "YpNHhIdcn1u_",
        "colab_type": "code",
        "colab": {}
      },
      "cell_type": "code",
      "source": [
        "def evaluate(recommended):\n",
        "    score  = 0\n",
        "    for i in range(0,len(postLinks)):\n",
        "        present = 0 \n",
        "        top = 0\n",
        "        count = len(postLinks[i]['relatedID'])\n",
        "        if postLinks[i]['postID'] in recommended.keys():\n",
        "            idx = 0\n",
        "            for rec in recommended[postLinks[i]['postID']]:\n",
        "                idx+=1\n",
        "                if rec[0] in postLinks[i]['relatedID']:\n",
        "                    present+=1\n",
        "                    if (idx >= int(len(postLinks[i]['relatedID'])/2)):\n",
        "                        top+=1\n",
        "            if(present):\n",
        "                score+= (0.3* (present/count)+ 0.7*(top/present))\n",
        "    return (score/len(postLinks))"
      ],
      "execution_count": 0,
      "outputs": []
    },
    {
      "metadata": {
        "id": "fhYUSC1Hn8Yg",
        "colab_type": "code",
        "outputId": "6911adc6-6252-404a-9f8c-a1b006d03f9d",
        "colab": {
          "base_uri": "https://localhost:8080/",
          "height": 34
        }
      },
      "cell_type": "code",
      "source": [
        "evaluate(tf_idf_answers_rec)*100"
      ],
      "execution_count": 11,
      "outputs": [
        {
          "output_type": "execute_result",
          "data": {
            "text/plain": [
              "18.681259372435896"
            ]
          },
          "metadata": {
            "tags": []
          },
          "execution_count": 11
        }
      ]
    },
    {
      "metadata": {
        "id": "RZKOH7R_ofAs",
        "colab_type": "code",
        "colab": {}
      },
      "cell_type": "code",
      "source": [
        ""
      ],
      "execution_count": 0,
      "outputs": []
    }
  ]
}