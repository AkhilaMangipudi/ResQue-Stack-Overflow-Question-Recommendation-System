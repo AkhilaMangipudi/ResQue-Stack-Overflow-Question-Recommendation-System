{
 "cells": [
  {
   "cell_type": "code",
   "execution_count": 1,
   "metadata": {},
   "outputs": [],
   "source": [
    "import xml.etree.ElementTree as ET \n",
    "import csv\n",
    "xmlfile = '../IR_datasets/biology.stackexchange.com/PostLinks.xml'\n",
    "tree = ET.parse(xmlfile)"
   ]
  },
  {
   "cell_type": "code",
   "execution_count": 2,
   "metadata": {
    "scrolled": true
   },
   "outputs": [],
   "source": [
    "root = tree.getroot()"
   ]
  },
  {
   "cell_type": "code",
   "execution_count": 3,
   "metadata": {},
   "outputs": [],
   "source": [
    "def createCSV(root,postlinksFile):\n",
    "    with open(postlinksFile,mode='w',encoding='utf-8') as postlinks:\n",
    "        postlinks = csv.writer(postlinks, delimiter=',')\n",
    "        postlinks.writerow(['Id','PostId','RelatedPostId','LinkTypeId'])\n",
    "        for row in root.findall('row'):\n",
    "            Id = row.get('Id')\n",
    "            postId = row.get('PostId')\n",
    "            relatedpostId = row.get('RelatedPostId')\n",
    "            linktypeId = row.get('LinkTypeId')\n",
    "            postlinks.writerow([Id,postId,relatedpostId,linktypeId])\n"
   ]
  },
  {
   "cell_type": "code",
   "execution_count": 4,
   "metadata": {},
   "outputs": [],
   "source": [
    "createCSV(root,\"../csv_files/postlinks.csv\")"
   ]
  },
  {
   "cell_type": "code",
   "execution_count": 5,
   "metadata": {
    "scrolled": true
   },
   "outputs": [],
   "source": [
    "import pandas as pd\n",
    "postlinksDF = pd.read_csv('../csv_files/postlinks.csv')"
   ]
  },
  {
   "cell_type": "code",
   "execution_count": 6,
   "metadata": {},
   "outputs": [
    {
     "data": {
      "text/plain": [
       "pandas.core.frame.DataFrame"
      ]
     },
     "execution_count": 6,
     "metadata": {},
     "output_type": "execute_result"
    }
   ],
   "source": [
    "type(postlinksDF)"
   ]
  },
  {
   "cell_type": "code",
   "execution_count": 7,
   "metadata": {
    "scrolled": true
   },
   "outputs": [
    {
     "data": {
      "text/html": [
       "<div>\n",
       "<style scoped>\n",
       "    .dataframe tbody tr th:only-of-type {\n",
       "        vertical-align: middle;\n",
       "    }\n",
       "\n",
       "    .dataframe tbody tr th {\n",
       "        vertical-align: top;\n",
       "    }\n",
       "\n",
       "    .dataframe thead th {\n",
       "        text-align: right;\n",
       "    }\n",
       "</style>\n",
       "<table border=\"1\" class=\"dataframe\">\n",
       "  <thead>\n",
       "    <tr style=\"text-align: right;\">\n",
       "      <th></th>\n",
       "      <th>Id</th>\n",
       "      <th>PostId</th>\n",
       "      <th>RelatedPostId</th>\n",
       "      <th>LinkTypeId</th>\n",
       "    </tr>\n",
       "  </thead>\n",
       "  <tbody>\n",
       "    <tr>\n",
       "      <th>0</th>\n",
       "      <td>3211</td>\n",
       "      <td>344</td>\n",
       "      <td>186</td>\n",
       "      <td>1</td>\n",
       "    </tr>\n",
       "    <tr>\n",
       "      <th>1</th>\n",
       "      <td>3587</td>\n",
       "      <td>202</td>\n",
       "      <td>391</td>\n",
       "      <td>1</td>\n",
       "    </tr>\n",
       "    <tr>\n",
       "      <th>2</th>\n",
       "      <td>3918</td>\n",
       "      <td>431</td>\n",
       "      <td>344</td>\n",
       "      <td>1</td>\n",
       "    </tr>\n",
       "    <tr>\n",
       "      <th>3</th>\n",
       "      <td>4553</td>\n",
       "      <td>510</td>\n",
       "      <td>450</td>\n",
       "      <td>1</td>\n",
       "    </tr>\n",
       "    <tr>\n",
       "      <th>4</th>\n",
       "      <td>6008</td>\n",
       "      <td>649</td>\n",
       "      <td>115</td>\n",
       "      <td>1</td>\n",
       "    </tr>\n",
       "    <tr>\n",
       "      <th>5</th>\n",
       "      <td>6009</td>\n",
       "      <td>649</td>\n",
       "      <td>399</td>\n",
       "      <td>1</td>\n",
       "    </tr>\n",
       "    <tr>\n",
       "      <th>6</th>\n",
       "      <td>6054</td>\n",
       "      <td>653</td>\n",
       "      <td>651</td>\n",
       "      <td>1</td>\n",
       "    </tr>\n",
       "    <tr>\n",
       "      <th>7</th>\n",
       "      <td>6706</td>\n",
       "      <td>675</td>\n",
       "      <td>393</td>\n",
       "      <td>1</td>\n",
       "    </tr>\n",
       "    <tr>\n",
       "      <th>8</th>\n",
       "      <td>6707</td>\n",
       "      <td>677</td>\n",
       "      <td>653</td>\n",
       "      <td>1</td>\n",
       "    </tr>\n",
       "    <tr>\n",
       "      <th>9</th>\n",
       "      <td>6708</td>\n",
       "      <td>677</td>\n",
       "      <td>651</td>\n",
       "      <td>1</td>\n",
       "    </tr>\n",
       "    <tr>\n",
       "      <th>10</th>\n",
       "      <td>6754</td>\n",
       "      <td>670</td>\n",
       "      <td>677</td>\n",
       "      <td>1</td>\n",
       "    </tr>\n",
       "    <tr>\n",
       "      <th>11</th>\n",
       "      <td>6901</td>\n",
       "      <td>679</td>\n",
       "      <td>680</td>\n",
       "      <td>1</td>\n",
       "    </tr>\n",
       "    <tr>\n",
       "      <th>12</th>\n",
       "      <td>7969</td>\n",
       "      <td>729</td>\n",
       "      <td>306</td>\n",
       "      <td>1</td>\n",
       "    </tr>\n",
       "    <tr>\n",
       "      <th>13</th>\n",
       "      <td>8501</td>\n",
       "      <td>752</td>\n",
       "      <td>730</td>\n",
       "      <td>1</td>\n",
       "    </tr>\n",
       "    <tr>\n",
       "      <th>14</th>\n",
       "      <td>8527</td>\n",
       "      <td>730</td>\n",
       "      <td>752</td>\n",
       "      <td>1</td>\n",
       "    </tr>\n",
       "    <tr>\n",
       "      <th>15</th>\n",
       "      <td>9318</td>\n",
       "      <td>794</td>\n",
       "      <td>11</td>\n",
       "      <td>1</td>\n",
       "    </tr>\n",
       "    <tr>\n",
       "      <th>16</th>\n",
       "      <td>9502</td>\n",
       "      <td>782</td>\n",
       "      <td>304</td>\n",
       "      <td>1</td>\n",
       "    </tr>\n",
       "    <tr>\n",
       "      <th>17</th>\n",
       "      <td>11274</td>\n",
       "      <td>911</td>\n",
       "      <td>875</td>\n",
       "      <td>1</td>\n",
       "    </tr>\n",
       "    <tr>\n",
       "      <th>18</th>\n",
       "      <td>11597</td>\n",
       "      <td>929</td>\n",
       "      <td>858</td>\n",
       "      <td>1</td>\n",
       "    </tr>\n",
       "    <tr>\n",
       "      <th>19</th>\n",
       "      <td>11683</td>\n",
       "      <td>932</td>\n",
       "      <td>457</td>\n",
       "      <td>1</td>\n",
       "    </tr>\n",
       "    <tr>\n",
       "      <th>20</th>\n",
       "      <td>12646</td>\n",
       "      <td>926</td>\n",
       "      <td>158</td>\n",
       "      <td>1</td>\n",
       "    </tr>\n",
       "    <tr>\n",
       "      <th>21</th>\n",
       "      <td>12647</td>\n",
       "      <td>982</td>\n",
       "      <td>345</td>\n",
       "      <td>1</td>\n",
       "    </tr>\n",
       "    <tr>\n",
       "      <th>22</th>\n",
       "      <td>12954</td>\n",
       "      <td>1005</td>\n",
       "      <td>1004</td>\n",
       "      <td>1</td>\n",
       "    </tr>\n",
       "    <tr>\n",
       "      <th>23</th>\n",
       "      <td>15801</td>\n",
       "      <td>1106</td>\n",
       "      <td>973</td>\n",
       "      <td>1</td>\n",
       "    </tr>\n",
       "    <tr>\n",
       "      <th>24</th>\n",
       "      <td>16629</td>\n",
       "      <td>1126</td>\n",
       "      <td>714</td>\n",
       "      <td>1</td>\n",
       "    </tr>\n",
       "    <tr>\n",
       "      <th>25</th>\n",
       "      <td>16751</td>\n",
       "      <td>1152</td>\n",
       "      <td>1</td>\n",
       "      <td>1</td>\n",
       "    </tr>\n",
       "    <tr>\n",
       "      <th>26</th>\n",
       "      <td>16752</td>\n",
       "      <td>1152</td>\n",
       "      <td>166</td>\n",
       "      <td>1</td>\n",
       "    </tr>\n",
       "    <tr>\n",
       "      <th>27</th>\n",
       "      <td>17137</td>\n",
       "      <td>1112</td>\n",
       "      <td>287</td>\n",
       "      <td>1</td>\n",
       "    </tr>\n",
       "    <tr>\n",
       "      <th>28</th>\n",
       "      <td>17216</td>\n",
       "      <td>1175</td>\n",
       "      <td>1024</td>\n",
       "      <td>1</td>\n",
       "    </tr>\n",
       "    <tr>\n",
       "      <th>29</th>\n",
       "      <td>17336</td>\n",
       "      <td>1179</td>\n",
       "      <td>991</td>\n",
       "      <td>1</td>\n",
       "    </tr>\n",
       "    <tr>\n",
       "      <th>...</th>\n",
       "      <td>...</td>\n",
       "      <td>...</td>\n",
       "      <td>...</td>\n",
       "      <td>...</td>\n",
       "    </tr>\n",
       "    <tr>\n",
       "      <th>5262</th>\n",
       "      <td>1327171</td>\n",
       "      <td>81421</td>\n",
       "      <td>44868</td>\n",
       "      <td>3</td>\n",
       "    </tr>\n",
       "    <tr>\n",
       "      <th>5263</th>\n",
       "      <td>1327172</td>\n",
       "      <td>80830</td>\n",
       "      <td>36866</td>\n",
       "      <td>1</td>\n",
       "    </tr>\n",
       "    <tr>\n",
       "      <th>5264</th>\n",
       "      <td>1327340</td>\n",
       "      <td>81471</td>\n",
       "      <td>10846</td>\n",
       "      <td>3</td>\n",
       "    </tr>\n",
       "    <tr>\n",
       "      <th>5265</th>\n",
       "      <td>1327493</td>\n",
       "      <td>81144</td>\n",
       "      <td>79495</td>\n",
       "      <td>3</td>\n",
       "    </tr>\n",
       "    <tr>\n",
       "      <th>5266</th>\n",
       "      <td>1327494</td>\n",
       "      <td>80830</td>\n",
       "      <td>36866</td>\n",
       "      <td>3</td>\n",
       "    </tr>\n",
       "    <tr>\n",
       "      <th>5267</th>\n",
       "      <td>1327589</td>\n",
       "      <td>81426</td>\n",
       "      <td>29865</td>\n",
       "      <td>3</td>\n",
       "    </tr>\n",
       "    <tr>\n",
       "      <th>5268</th>\n",
       "      <td>1328425</td>\n",
       "      <td>1675</td>\n",
       "      <td>79881</td>\n",
       "      <td>1</td>\n",
       "    </tr>\n",
       "    <tr>\n",
       "      <th>5269</th>\n",
       "      <td>1328455</td>\n",
       "      <td>81507</td>\n",
       "      <td>77666</td>\n",
       "      <td>1</td>\n",
       "    </tr>\n",
       "    <tr>\n",
       "      <th>5270</th>\n",
       "      <td>1328711</td>\n",
       "      <td>81539</td>\n",
       "      <td>6884</td>\n",
       "      <td>1</td>\n",
       "    </tr>\n",
       "    <tr>\n",
       "      <th>5271</th>\n",
       "      <td>1328781</td>\n",
       "      <td>81540</td>\n",
       "      <td>59629</td>\n",
       "      <td>1</td>\n",
       "    </tr>\n",
       "    <tr>\n",
       "      <th>5272</th>\n",
       "      <td>1328791</td>\n",
       "      <td>81540</td>\n",
       "      <td>59629</td>\n",
       "      <td>3</td>\n",
       "    </tr>\n",
       "    <tr>\n",
       "      <th>5273</th>\n",
       "      <td>1328975</td>\n",
       "      <td>81554</td>\n",
       "      <td>76802</td>\n",
       "      <td>1</td>\n",
       "    </tr>\n",
       "    <tr>\n",
       "      <th>5274</th>\n",
       "      <td>1328985</td>\n",
       "      <td>81539</td>\n",
       "      <td>6884</td>\n",
       "      <td>3</td>\n",
       "    </tr>\n",
       "    <tr>\n",
       "      <th>5275</th>\n",
       "      <td>1329376</td>\n",
       "      <td>81554</td>\n",
       "      <td>42273</td>\n",
       "      <td>1</td>\n",
       "    </tr>\n",
       "    <tr>\n",
       "      <th>5276</th>\n",
       "      <td>1329398</td>\n",
       "      <td>81575</td>\n",
       "      <td>74432</td>\n",
       "      <td>1</td>\n",
       "    </tr>\n",
       "    <tr>\n",
       "      <th>5277</th>\n",
       "      <td>1329849</td>\n",
       "      <td>74432</td>\n",
       "      <td>43767</td>\n",
       "      <td>1</td>\n",
       "    </tr>\n",
       "    <tr>\n",
       "      <th>5278</th>\n",
       "      <td>1329933</td>\n",
       "      <td>81602</td>\n",
       "      <td>81524</td>\n",
       "      <td>1</td>\n",
       "    </tr>\n",
       "    <tr>\n",
       "      <th>5279</th>\n",
       "      <td>1329963</td>\n",
       "      <td>81524</td>\n",
       "      <td>81602</td>\n",
       "      <td>1</td>\n",
       "    </tr>\n",
       "    <tr>\n",
       "      <th>5280</th>\n",
       "      <td>1330003</td>\n",
       "      <td>81609</td>\n",
       "      <td>9437</td>\n",
       "      <td>1</td>\n",
       "    </tr>\n",
       "    <tr>\n",
       "      <th>5281</th>\n",
       "      <td>1330011</td>\n",
       "      <td>81609</td>\n",
       "      <td>76358</td>\n",
       "      <td>1</td>\n",
       "    </tr>\n",
       "    <tr>\n",
       "      <th>5282</th>\n",
       "      <td>1330061</td>\n",
       "      <td>81454</td>\n",
       "      <td>21864</td>\n",
       "      <td>3</td>\n",
       "    </tr>\n",
       "    <tr>\n",
       "      <th>5283</th>\n",
       "      <td>1330244</td>\n",
       "      <td>81630</td>\n",
       "      <td>39512</td>\n",
       "      <td>1</td>\n",
       "    </tr>\n",
       "    <tr>\n",
       "      <th>5284</th>\n",
       "      <td>1330245</td>\n",
       "      <td>81630</td>\n",
       "      <td>10002</td>\n",
       "      <td>1</td>\n",
       "    </tr>\n",
       "    <tr>\n",
       "      <th>5285</th>\n",
       "      <td>1330263</td>\n",
       "      <td>73100</td>\n",
       "      <td>51252</td>\n",
       "      <td>1</td>\n",
       "    </tr>\n",
       "    <tr>\n",
       "      <th>5286</th>\n",
       "      <td>1330264</td>\n",
       "      <td>81630</td>\n",
       "      <td>51252</td>\n",
       "      <td>1</td>\n",
       "    </tr>\n",
       "    <tr>\n",
       "      <th>5287</th>\n",
       "      <td>1330265</td>\n",
       "      <td>81630</td>\n",
       "      <td>73100</td>\n",
       "      <td>1</td>\n",
       "    </tr>\n",
       "    <tr>\n",
       "      <th>5288</th>\n",
       "      <td>1330637</td>\n",
       "      <td>81626</td>\n",
       "      <td>9913</td>\n",
       "      <td>1</td>\n",
       "    </tr>\n",
       "    <tr>\n",
       "      <th>5289</th>\n",
       "      <td>1330651</td>\n",
       "      <td>81660</td>\n",
       "      <td>40579</td>\n",
       "      <td>1</td>\n",
       "    </tr>\n",
       "    <tr>\n",
       "      <th>5290</th>\n",
       "      <td>1330652</td>\n",
       "      <td>81660</td>\n",
       "      <td>40579</td>\n",
       "      <td>3</td>\n",
       "    </tr>\n",
       "    <tr>\n",
       "      <th>5291</th>\n",
       "      <td>1330654</td>\n",
       "      <td>81660</td>\n",
       "      <td>68091</td>\n",
       "      <td>1</td>\n",
       "    </tr>\n",
       "  </tbody>\n",
       "</table>\n",
       "<p>5292 rows × 4 columns</p>\n",
       "</div>"
      ],
      "text/plain": [
       "           Id  PostId  RelatedPostId  LinkTypeId\n",
       "0        3211     344            186           1\n",
       "1        3587     202            391           1\n",
       "2        3918     431            344           1\n",
       "3        4553     510            450           1\n",
       "4        6008     649            115           1\n",
       "5        6009     649            399           1\n",
       "6        6054     653            651           1\n",
       "7        6706     675            393           1\n",
       "8        6707     677            653           1\n",
       "9        6708     677            651           1\n",
       "10       6754     670            677           1\n",
       "11       6901     679            680           1\n",
       "12       7969     729            306           1\n",
       "13       8501     752            730           1\n",
       "14       8527     730            752           1\n",
       "15       9318     794             11           1\n",
       "16       9502     782            304           1\n",
       "17      11274     911            875           1\n",
       "18      11597     929            858           1\n",
       "19      11683     932            457           1\n",
       "20      12646     926            158           1\n",
       "21      12647     982            345           1\n",
       "22      12954    1005           1004           1\n",
       "23      15801    1106            973           1\n",
       "24      16629    1126            714           1\n",
       "25      16751    1152              1           1\n",
       "26      16752    1152            166           1\n",
       "27      17137    1112            287           1\n",
       "28      17216    1175           1024           1\n",
       "29      17336    1179            991           1\n",
       "...       ...     ...            ...         ...\n",
       "5262  1327171   81421          44868           3\n",
       "5263  1327172   80830          36866           1\n",
       "5264  1327340   81471          10846           3\n",
       "5265  1327493   81144          79495           3\n",
       "5266  1327494   80830          36866           3\n",
       "5267  1327589   81426          29865           3\n",
       "5268  1328425    1675          79881           1\n",
       "5269  1328455   81507          77666           1\n",
       "5270  1328711   81539           6884           1\n",
       "5271  1328781   81540          59629           1\n",
       "5272  1328791   81540          59629           3\n",
       "5273  1328975   81554          76802           1\n",
       "5274  1328985   81539           6884           3\n",
       "5275  1329376   81554          42273           1\n",
       "5276  1329398   81575          74432           1\n",
       "5277  1329849   74432          43767           1\n",
       "5278  1329933   81602          81524           1\n",
       "5279  1329963   81524          81602           1\n",
       "5280  1330003   81609           9437           1\n",
       "5281  1330011   81609          76358           1\n",
       "5282  1330061   81454          21864           3\n",
       "5283  1330244   81630          39512           1\n",
       "5284  1330245   81630          10002           1\n",
       "5285  1330263   73100          51252           1\n",
       "5286  1330264   81630          51252           1\n",
       "5287  1330265   81630          73100           1\n",
       "5288  1330637   81626           9913           1\n",
       "5289  1330651   81660          40579           1\n",
       "5290  1330652   81660          40579           3\n",
       "5291  1330654   81660          68091           1\n",
       "\n",
       "[5292 rows x 4 columns]"
      ]
     },
     "execution_count": 7,
     "metadata": {},
     "output_type": "execute_result"
    }
   ],
   "source": [
    "postlinksDF"
   ]
  },
  {
   "cell_type": "code",
   "execution_count": 8,
   "metadata": {},
   "outputs": [
    {
     "data": {
      "text/plain": [
       "(5292, 4)"
      ]
     },
     "execution_count": 8,
     "metadata": {},
     "output_type": "execute_result"
    }
   ],
   "source": [
    "postlinksDF.shape"
   ]
  },
  {
   "cell_type": "code",
   "execution_count": 12,
   "metadata": {
    "scrolled": true
   },
   "outputs": [],
   "source": [
    "#final list of dict to keep track of related post ids and answer ids for each question id\n",
    "postLinks = []\n",
    "#to keep track of questions that were already encountered\n",
    "posts = [] \n",
    "\n",
    "for index, row in postlinksDF.iterrows():\n",
    "    temp = {'postID': None,'relatedID': [],'answerID': [] } \n",
    "    temp['postID'] = row['PostId']\n",
    "    if(row['PostId'] in posts and len(posts)!=0):\n",
    "        for i in range(0,len(posts)):\n",
    "            if(row['PostId'] == postLinks[i]['postID']):\n",
    "                postLinks[i]['relatedID'].append(row[\"RelatedPostId\"])\n",
    "                postLinks[i]['answerID'].append(row[\"Id\"])\n",
    "    else:  \n",
    "        temp['relatedID'].append(row[\"RelatedPostId\"])\n",
    "        temp['answerID'].append(row[\"Id\"])   \n",
    "        posts.append(temp['postID'])\n",
    "        postLinks.append(temp)       \n"
   ]
  },
  {
   "cell_type": "code",
   "execution_count": 13,
   "metadata": {
    "scrolled": false
   },
   "outputs": [
    {
     "data": {
      "text/plain": [
       "3579"
      ]
     },
     "execution_count": 13,
     "metadata": {},
     "output_type": "execute_result"
    }
   ],
   "source": [
    "len(postLinks)"
   ]
  },
  {
   "cell_type": "code",
   "execution_count": 62,
   "metadata": {},
   "outputs": [],
   "source": [
    "import pickle\n",
    "\n",
    "#load the file of recommendations made by our model for each question\n",
    "recommended_que= pickle.load(open(\"../models/ques_recommendations.dat\",\"rb\"))\n",
    "recommended_ans = pickle.load(open(\"../models/ans_recommendations.dat\",\"rb\"))\n",
    "combined = pickle.load(open(\"../models/que_ans_recommendations.dat\",\"rb\"))"
   ]
  },
  {
   "cell_type": "code",
   "execution_count": 93,
   "metadata": {},
   "outputs": [],
   "source": [
    "title_recommended_que= pickle.load(open(\"../models/title_ques_recommendations.dat\",\"rb\"))\n",
    "title_combined = pickle.load(open(\"../models/title_que_ans_recommendations.dat\",\"rb\"))"
   ]
  },
  {
   "cell_type": "code",
   "execution_count": 101,
   "metadata": {},
   "outputs": [],
   "source": [
    "tags_recommended_que= pickle.load(open(\"../models/w_tags_ques_recommendations.dat\",\"rb\"))\n",
    "tags_combined = pickle.load(open(\"../models/w_tags_que_ans_recommendations.dat\",\"rb\"))"
   ]
  },
  {
   "cell_type": "code",
   "execution_count": 42,
   "metadata": {},
   "outputs": [
    {
     "data": {
      "text/plain": [
       "21594"
      ]
     },
     "execution_count": 42,
     "metadata": {},
     "output_type": "execute_result"
    }
   ],
   "source": [
    "len(recommended_que)"
   ]
  },
  {
   "cell_type": "code",
   "execution_count": 102,
   "metadata": {},
   "outputs": [],
   "source": [
    "#Function to evaluate recommendations for a question\n",
    "#Evaluation made against the questions present in PostLinks.xml\n",
    "#Weighted average of the number of questions from relatedID list are present in the list of recommendations \n",
    "#and the number of questions from relatedID list that are present in the top half of the list of recommendations\n",
    "\n",
    "def evaluate(recommended,n):\n",
    "    print(len(recommended))\n",
    "    score  = 0\n",
    "    for i in range(0,len(postLinks)):\n",
    "        present = 0 \n",
    "        top = 0\n",
    "        count = len(postLinks[i]['relatedID'])\n",
    "        if postLinks[i]['postID'] in recommended.keys():\n",
    "            idx = 0\n",
    "            for rec in recommended[postLinks[i]['postID']][0:n]:\n",
    "                #print(rec)\n",
    "                idx+=1\n",
    "                if rec[0] in postLinks[i]['relatedID']:\n",
    "                    present+=1\n",
    "                    if (idx >= int(len(postLinks[i]['relatedID'])/2)):\n",
    "                        top+=1\n",
    "            if(present):\n",
    "                score+= (0.3* (present/count)+ 0.7*(top/present))\n",
    "    return (score/len(postLinks))\n",
    "    "
   ]
  },
  {
   "cell_type": "code",
   "execution_count": 90,
   "metadata": {
    "scrolled": true
   },
   "outputs": [
    {
     "name": "stdout",
     "output_type": "stream",
     "text": [
      "21594\n"
     ]
    },
    {
     "data": {
      "text/plain": [
       "0.11621745233438475"
      ]
     },
     "execution_count": 90,
     "metadata": {},
     "output_type": "execute_result"
    }
   ],
   "source": [
    "evaluate(recommended_que,30)"
   ]
  },
  {
   "cell_type": "code",
   "execution_count": 91,
   "metadata": {},
   "outputs": [
    {
     "name": "stdout",
     "output_type": "stream",
     "text": [
      "17279\n"
     ]
    },
    {
     "data": {
      "text/plain": [
       "0.1320006586037604"
      ]
     },
     "execution_count": 91,
     "metadata": {},
     "output_type": "execute_result"
    }
   ],
   "source": [
    "evaluate(recommended_ans,30)"
   ]
  },
  {
   "cell_type": "code",
   "execution_count": 92,
   "metadata": {},
   "outputs": [
    {
     "name": "stdout",
     "output_type": "stream",
     "text": [
      "21594\n"
     ]
    },
    {
     "data": {
      "text/plain": [
       "0.1873227757154834"
      ]
     },
     "execution_count": 92,
     "metadata": {},
     "output_type": "execute_result"
    }
   ],
   "source": [
    "evaluate(combined,30)"
   ]
  },
  {
   "cell_type": "code",
   "execution_count": 95,
   "metadata": {},
   "outputs": [
    {
     "name": "stdout",
     "output_type": "stream",
     "text": [
      "21594\n"
     ]
    },
    {
     "data": {
      "text/plain": [
       "0.08698702084913319"
      ]
     },
     "execution_count": 95,
     "metadata": {},
     "output_type": "execute_result"
    }
   ],
   "source": [
    "evaluate(title_recommended_que,30)"
   ]
  },
  {
   "cell_type": "code",
   "execution_count": 97,
   "metadata": {},
   "outputs": [
    {
     "name": "stdout",
     "output_type": "stream",
     "text": [
      "21594\n"
     ]
    },
    {
     "data": {
      "text/plain": [
       "0.1898444298088056"
      ]
     },
     "execution_count": 97,
     "metadata": {},
     "output_type": "execute_result"
    }
   ],
   "source": [
    "evaluate(title_combined,30)"
   ]
  },
  {
   "cell_type": "code",
   "execution_count": 103,
   "metadata": {},
   "outputs": [
    {
     "name": "stdout",
     "output_type": "stream",
     "text": [
      "21594\n"
     ]
    },
    {
     "data": {
      "text/plain": [
       "0.08698702084913319"
      ]
     },
     "execution_count": 103,
     "metadata": {},
     "output_type": "execute_result"
    }
   ],
   "source": [
    "evaluate(tags_recommended_que,30)"
   ]
  },
  {
   "cell_type": "code",
   "execution_count": 104,
   "metadata": {},
   "outputs": [
    {
     "name": "stdout",
     "output_type": "stream",
     "text": [
      "21594\n"
     ]
    },
    {
     "data": {
      "text/plain": [
       "0.1898444298088056"
      ]
     },
     "execution_count": 104,
     "metadata": {},
     "output_type": "execute_result"
    }
   ],
   "source": [
    "evaluate(tags_combined,30)"
   ]
  }
 ],
 "metadata": {
  "kernelspec": {
   "display_name": "Python 3",
   "language": "python",
   "name": "python3"
  },
  "language_info": {
   "codemirror_mode": {
    "name": "ipython",
    "version": 3
   },
   "file_extension": ".py",
   "mimetype": "text/x-python",
   "name": "python",
   "nbconvert_exporter": "python",
   "pygments_lexer": "ipython3",
   "version": "3.7.0"
  }
 },
 "nbformat": 4,
 "nbformat_minor": 2
}
