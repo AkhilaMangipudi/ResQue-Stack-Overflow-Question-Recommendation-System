{
 "cells": [
  {
   "cell_type": "code",
   "execution_count": 0,
   "metadata": {
    "colab": {},
    "colab_type": "code",
    "id": "7hn383A1ua9H"
   },
   "outputs": [],
   "source": []
  },
  {
   "cell_type": "code",
   "execution_count": 10,
   "metadata": {
    "colab": {
     "base_uri": "https://localhost:8080/",
     "height": 248
    },
    "colab_type": "code",
    "id": "L499TveVGcFX",
    "outputId": "2d71c7c8-f69f-4495-9f11-eb3d2f811e5a"
   },
   "outputs": [
    {
     "name": "stderr",
     "output_type": "stream",
     "text": [
      "100%|██████████| 35056/35056 [44:09<00:00, 13.23it/s]\n"
     ]
    },
    {
     "ename": "NameError",
     "evalue": "ignored",
     "output_type": "error",
     "traceback": [
      "\u001b[0;31m---------------------------------------------------------------------------\u001b[0m",
      "\u001b[0;31mNameError\u001b[0m                                 Traceback (most recent call last)",
      "\u001b[0;32m<ipython-input-10-47538908567b>\u001b[0m in \u001b[0;36m<module>\u001b[0;34m()\u001b[0m\n\u001b[1;32m     39\u001b[0m             \u001b[0manswers_rec_dict\u001b[0m\u001b[0;34m[\u001b[0m\u001b[0mdf\u001b[0m\u001b[0;34m[\u001b[0m\u001b[0;34m'Id'\u001b[0m\u001b[0;34m]\u001b[0m\u001b[0;34m[\u001b[0m\u001b[0mi\u001b[0m\u001b[0;34m]\u001b[0m\u001b[0;34m]\u001b[0m \u001b[0;34m=\u001b[0m \u001b[0;34m[\u001b[0m\u001b[0;34m(\u001b[0m\u001b[0mdf\u001b[0m\u001b[0;34m[\u001b[0m\u001b[0;34m'Id'\u001b[0m\u001b[0;34m]\u001b[0m\u001b[0;34m[\u001b[0m\u001b[0mindex\u001b[0m\u001b[0;34m]\u001b[0m\u001b[0;34m,\u001b[0m\u001b[0mscore\u001b[0m\u001b[0;34m)\u001b[0m\u001b[0;34m]\u001b[0m\u001b[0;34m\u001b[0m\u001b[0;34m\u001b[0m\u001b[0m\n\u001b[1;32m     40\u001b[0m \u001b[0;34m\u001b[0m\u001b[0m\n\u001b[0;32m---> 41\u001b[0;31m \u001b[0msave_obj\u001b[0m\u001b[0;34m(\u001b[0m\u001b[0mquestions_rec_dict\u001b[0m\u001b[0;34m,\u001b[0m\u001b[0;34m\"tf_idf_answers_rec\"\u001b[0m\u001b[0;34m)\u001b[0m\u001b[0;34m\u001b[0m\u001b[0;34m\u001b[0m\u001b[0m\n\u001b[0m\u001b[1;32m     42\u001b[0m \u001b[0;34m\u001b[0m\u001b[0m\n\u001b[1;32m     43\u001b[0m \u001b[0;34m\u001b[0m\u001b[0m\n",
      "\u001b[0;31mNameError\u001b[0m: name 'questions_rec_dict' is not defined"
     ]
    }
   ],
   "source": [
    "import pandas as pd\n",
    "import numpy as np\n",
    "from sklearn.feature_extraction.text import TfidfVectorizer\n",
    "from sklearn.metrics.pairwise import linear_kernel\n",
    "import tqdm as tqdm\n",
    "from collections import defaultdict\n",
    "import pickle as pickle\n",
    "\n",
    "def get_tfidf(column):\n",
    "\ttfidf_vectorizer = TfidfVectorizer(stop_words =\"english\")\n",
    "\ttfidf_matrix = tfidf_vectorizer.fit_transform(column.values.astype(str))\n",
    "\treturn tfidf_matrix\n",
    "\n",
    "def find_similar(tfidf_matrix, index, top_n = 5):\n",
    "    cosine_similarities = linear_kernel(tfidf_matrix[index:index+1], tfidf_matrix).flatten()\n",
    "    related_docs_indices = [i for i in cosine_similarities.argsort()[::-1] if i != index]\n",
    "    return [(index, cosine_similarities[index]) for index in related_docs_indices][0:top_n]\n",
    "\n",
    "def save_obj(obj, name ):\n",
    "    with open(name + '.pkl', 'wb') as f:\n",
    "        pickle.dump(obj, f, pickle.HIGHEST_PROTOCOL)\n",
    "\n",
    "def load_obj(name ):\n",
    "    with open(name + '.pkl', 'rb') as f:\n",
    "        return pickle.load(f)\t\n",
    "\n",
    "answers_file = \"CS_answers.csv\"\n",
    "df = pd.read_csv(answers_file)\n",
    "saved_column = df.Body #you can also use df['column_name']\n",
    "saved_column.fillna(\" \")\n",
    "tfidf_answers = get_tfidf(saved_column)\n",
    "\n",
    "answers_rec_dict = defaultdict(list)\n",
    "for i in tqdm.tqdm(range(saved_column.shape[0])):\n",
    "    for index, score in find_similar(tfidf_answers, i):\n",
    "        if df['Id'][i] in answers_rec_dict:\n",
    "            (answers_rec_dict[df['Id'][i]]).append((df['Id'][index],score))\n",
    "        else:\n",
    "            answers_rec_dict[df['Id'][i]] = [(df['Id'][index],score)]\n",
    "\n",
    "\n"
   ]
  },
  {
   "cell_type": "code",
   "execution_count": 11,
   "metadata": {
    "colab": {
     "base_uri": "https://localhost:8080/",
     "height": 34
    },
    "colab_type": "code",
    "id": "ugmysT2CV8bZ",
    "outputId": "54634bc1-20d4-42ee-a1ae-87d594829fe1"
   },
   "outputs": [
    {
     "name": "stderr",
     "output_type": "stream",
     "text": [
      "100%|██████████| 29375/29375 [29:36<00:00, 16.53it/s]\n"
     ]
    }
   ],
   "source": [
    "save_obj(answers_rec_dict,\"tf_idf_answers_rec\")\n",
    "\t\t\t\n",
    "\n",
    "questions_file = \"CS_questions.csv\"\n",
    "df_ques = pd.read_csv(questions_file)\n",
    "df_question_merged = df_ques.Body.astype(str) + \" \" + df_ques.Title.astype(str) + \" \" + df_ques.Tags.astype(str)\n",
    "tfidf_questions_merged = get_tfidf(df_question_merged)\n",
    "\n",
    "questions_rec_dict = defaultdict(list)\n",
    "for i in tqdm.tqdm(range(tfidf_questions_merged.shape[0])):\n",
    "    for index, score in find_similar(tfidf_questions_merged, i):\n",
    "        if df_ques['Id'][i] in questions_rec_dict:\n",
    "            (questions_rec_dict[df_ques['Id'][i]]).append((df_ques['Id'][index],score))\n",
    "        else:\n",
    "            questions_rec_dict[df_ques['Id'][i]] = [(df_ques['Id'][index],score)]\n",
    "\n",
    "save_obj(questions_rec_dict,\"tf_idf_ques_rec\")"
   ]
  },
  {
   "cell_type": "code",
   "execution_count": 5,
   "metadata": {
    "colab": {},
    "colab_type": "code",
    "id": "aHwt8JS2ua9Q"
   },
   "outputs": [],
   "source": [
    "import pandas as pd\n",
    "postlinksDF = pd.read_csv('../csv_files/postlinks.csv')"
   ]
  },
  {
   "cell_type": "code",
   "execution_count": 6,
   "metadata": {
    "colab": {
     "base_uri": "https://localhost:8080/",
     "height": 204
    },
    "colab_type": "code",
    "id": "f-b8SSWqua9j",
    "outputId": "75d84fe7-f9d9-4916-bda3-36de4c800e5d"
   },
   "outputs": [
    {
     "data": {
      "text/html": [
       "<div>\n",
       "<style scoped>\n",
       "    .dataframe tbody tr th:only-of-type {\n",
       "        vertical-align: middle;\n",
       "    }\n",
       "\n",
       "    .dataframe tbody tr th {\n",
       "        vertical-align: top;\n",
       "    }\n",
       "\n",
       "    .dataframe thead th {\n",
       "        text-align: right;\n",
       "    }\n",
       "</style>\n",
       "<table border=\"1\" class=\"dataframe\">\n",
       "  <thead>\n",
       "    <tr style=\"text-align: right;\">\n",
       "      <th></th>\n",
       "      <th>Id</th>\n",
       "      <th>PostId</th>\n",
       "      <th>RelatedPostId</th>\n",
       "      <th>LinkTypeId</th>\n",
       "    </tr>\n",
       "  </thead>\n",
       "  <tbody>\n",
       "    <tr>\n",
       "      <th>0</th>\n",
       "      <td>865</td>\n",
       "      <td>155</td>\n",
       "      <td>143</td>\n",
       "      <td>1</td>\n",
       "    </tr>\n",
       "    <tr>\n",
       "      <th>1</th>\n",
       "      <td>891</td>\n",
       "      <td>143</td>\n",
       "      <td>155</td>\n",
       "      <td>1</td>\n",
       "    </tr>\n",
       "    <tr>\n",
       "      <th>2</th>\n",
       "      <td>1139</td>\n",
       "      <td>192</td>\n",
       "      <td>57</td>\n",
       "      <td>1</td>\n",
       "    </tr>\n",
       "    <tr>\n",
       "      <th>3</th>\n",
       "      <td>1789</td>\n",
       "      <td>245</td>\n",
       "      <td>256</td>\n",
       "      <td>1</td>\n",
       "    </tr>\n",
       "    <tr>\n",
       "      <th>4</th>\n",
       "      <td>2699</td>\n",
       "      <td>341</td>\n",
       "      <td>302</td>\n",
       "      <td>1</td>\n",
       "    </tr>\n",
       "  </tbody>\n",
       "</table>\n",
       "</div>"
      ],
      "text/plain": [
       "     Id  PostId  RelatedPostId  LinkTypeId\n",
       "0   865     155            143           1\n",
       "1   891     143            155           1\n",
       "2  1139     192             57           1\n",
       "3  1789     245            256           1\n",
       "4  2699     341            302           1"
      ]
     },
     "execution_count": 6,
     "metadata": {},
     "output_type": "execute_result"
    }
   ],
   "source": [
    "postlinksDF.head()"
   ]
  },
  {
   "cell_type": "code",
   "execution_count": 7,
   "metadata": {
    "colab": {
     "base_uri": "https://localhost:8080/",
     "height": 34
    },
    "colab_type": "code",
    "id": "Llfhvuucua91",
    "outputId": "75d1d00a-9ec1-40ca-9846-d24db8a5c8aa"
   },
   "outputs": [
    {
     "name": "stderr",
     "output_type": "stream",
     "text": [
      "9855it [02:52, 57.09it/s] \n"
     ]
    }
   ],
   "source": [
    "import tqdm \n",
    "#final list of dict to keep track of related post ids and answer ids for each question id\n",
    "postLinks = []\n",
    "#to keep track of questions that were already encountered\n",
    "posts = [] \n",
    "\n",
    "for index, row in tqdm.tqdm(postlinksDF.iterrows()):\n",
    "    temp = {'postID': None,'relatedID': [],'answerID': [] } \n",
    "    temp['postID'] = row['PostId']\n",
    "    if(row['PostId'] in posts and len(posts)!=0):\n",
    "        for i in range(0,len(posts)):\n",
    "            if(row['PostId'] == postLinks[i]['postID']):\n",
    "                postLinks[i]['relatedID'].append(row[\"RelatedPostId\"])\n",
    "                postLinks[i]['answerID'].append(row[\"Id\"])\n",
    "    else:  \n",
    "        temp['relatedID'].append(row[\"RelatedPostId\"])\n",
    "        temp['answerID'].append(row[\"Id\"])   \n",
    "        posts.append(temp['postID'])\n",
    "        postLinks.append(temp)"
   ]
  },
  {
   "cell_type": "code",
   "execution_count": 8,
   "metadata": {
    "colab": {
     "base_uri": "https://localhost:8080/",
     "height": 34
    },
    "colab_type": "code",
    "id": "_EaOTjGxua-p",
    "outputId": "778d0f55-e2dd-406d-96a8-e9a51e7e103e"
   },
   "outputs": [
    {
     "data": {
      "text/plain": [
       "6579"
      ]
     },
     "execution_count": 8,
     "metadata": {},
     "output_type": "execute_result"
    }
   ],
   "source": [
    "len(postLinks)"
   ]
  },
  {
   "cell_type": "code",
   "execution_count": 9,
   "metadata": {
    "colab": {},
    "colab_type": "code",
    "id": "7azWlTAndq95"
   },
   "outputs": [],
   "source": [
    "import pickle as pickle\n",
    "\n",
    "def load_obj(name ):\n",
    "    with open(name + '.pkl', 'rb') as f:\n",
    "        return pickle.load(f)\n",
    "\n",
    "tf_idf_ques_rec = load_obj(\"tf_idf_ques_rec\")\n",
    "recommended = tf_idf_ques_rec"
   ]
  },
  {
   "cell_type": "code",
   "execution_count": 10,
   "metadata": {
    "colab": {
     "base_uri": "https://localhost:8080/",
     "height": 102
    },
    "colab_type": "code",
    "id": "oFHDbVYjdtVH",
    "outputId": "90a75a37-ce44-448f-8b62-d352e55600e7"
   },
   "outputs": [
    {
     "data": {
      "text/plain": [
       "[(85662, 0.3608988407573669),\n",
       " (51954, 0.2890118160092387),\n",
       " (45188, 0.2635945608870541),\n",
       " (32703, 0.2496637310035562),\n",
       " (71993, 0.24118704749672484)]"
      ]
     },
     "execution_count": 10,
     "metadata": {},
     "output_type": "execute_result"
    }
   ],
   "source": [
    "recommended[7]"
   ]
  },
  {
   "cell_type": "code",
   "execution_count": 11,
   "metadata": {
    "colab": {},
    "colab_type": "code",
    "id": "KiOs6mKCua-z"
   },
   "outputs": [],
   "source": [
    "def evaluate():\n",
    "    score  = 0\n",
    "    for i in range(0,len(postLinks)):\n",
    "        present = 0 \n",
    "        top = 0\n",
    "        count = len(postLinks[i]['relatedID'])\n",
    "        if postLinks[i]['postID'] in recommended.keys():\n",
    "            idx = 0\n",
    "            for rec in recommended[postLinks[i]['postID']]:\n",
    "                idx+=1\n",
    "                if rec[0] in postLinks[i]['relatedID']:\n",
    "                    present+=1\n",
    "                    if (idx >= int(len(postLinks[i]['relatedID'])/2)):\n",
    "                        top+=1\n",
    "            if(present):\n",
    "                score+= (0.1* (present/count)+ 0.9*(top/present))\n",
    "    return (score/len(postLinks))"
   ]
  },
  {
   "cell_type": "code",
   "execution_count": 12,
   "metadata": {
    "colab": {
     "base_uri": "https://localhost:8080/",
     "height": 34
    },
    "colab_type": "code",
    "id": "DF3NWzD9ua-_",
    "outputId": "7abed3c8-65f3-46aa-d9f1-6d1455c1bc68"
   },
   "outputs": [
    {
     "data": {
      "text/plain": [
       "14.356423330431559"
      ]
     },
     "execution_count": 12,
     "metadata": {},
     "output_type": "execute_result"
    }
   ],
   "source": [
    "evaluate()*100"
   ]
  },
  {
   "cell_type": "code",
   "execution_count": 13,
   "metadata": {
    "colab": {},
    "colab_type": "code",
    "id": "xGbvFG1Iua_b"
   },
   "outputs": [],
   "source": [
    "tf_idf_answers_rec = load_obj(\"tf_idf_answers_rec\")\n",
    "recommended = tf_idf_answers_rec"
   ]
  },
  {
   "cell_type": "code",
   "execution_count": 14,
   "metadata": {
    "colab": {
     "base_uri": "https://localhost:8080/",
     "height": 34
    },
    "colab_type": "code",
    "id": "12QSiE4ke4DU",
    "outputId": "4c574dc1-1c74-433f-9132-8af9f0a91bfe"
   },
   "outputs": [
    {
     "data": {
      "text/plain": [
       "0.0"
      ]
     },
     "execution_count": 14,
     "metadata": {},
     "output_type": "execute_result"
    }
   ],
   "source": [
    "evaluate()*100"
   ]
  },
  {
   "cell_type": "code",
   "execution_count": null,
   "metadata": {},
   "outputs": [],
   "source": []
  }
 ],
 "metadata": {
  "accelerator": "GPU",
  "colab": {
   "name": "tfidf_cosine_evaluation.ipynb",
   "provenance": [],
   "version": "0.3.2"
  },
  "kernelspec": {
   "display_name": "Python 3",
   "language": "python",
   "name": "python3"
  },
  "language_info": {
   "codemirror_mode": {
    "name": "ipython",
    "version": 3
   },
   "file_extension": ".py",
   "mimetype": "text/x-python",
   "name": "python",
   "nbconvert_exporter": "python",
   "pygments_lexer": "ipython3",
   "version": "3.6.5"
  }
 },
 "nbformat": 4,
 "nbformat_minor": 1
}
