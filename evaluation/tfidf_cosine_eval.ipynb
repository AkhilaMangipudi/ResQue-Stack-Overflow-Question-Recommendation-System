{
  "nbformat": 4,
  "nbformat_minor": 0,
  "metadata": {
    "colab": {
      "name": "tfidf_cosine_evaluation.ipynb",
      "version": "0.3.2",
      "provenance": []
    },
    "language_info": {
      "codemirror_mode": {
        "name": "ipython",
        "version": 3
      },
      "file_extension": ".py",
      "mimetype": "text/x-python",
      "name": "python",
      "nbconvert_exporter": "python",
      "pygments_lexer": "ipython3",
      "version": "3.6.5"
    },
    "kernelspec": {
      "name": "python3",
      "display_name": "Python 3"
    },
    "accelerator": "GPU"
  },
  "cells": [
    {
      "metadata": {
        "id": "7hn383A1ua9H",
        "colab_type": "code",
        "colab": {}
      },
      "cell_type": "code",
      "source": [
        ""
      ],
      "execution_count": 0,
      "outputs": []
    },
    {
      "metadata": {
        "id": "L499TveVGcFX",
        "colab_type": "code",
        "colab": {
          "base_uri": "https://localhost:8080/",
          "height": 248
        },
        "outputId": "2d71c7c8-f69f-4495-9f11-eb3d2f811e5a"
      },
      "cell_type": "code",
      "source": [
        "import pandas as pd\n",
        "import numpy as np\n",
        "from sklearn.feature_extraction.text import TfidfVectorizer\n",
        "from sklearn.metrics.pairwise import linear_kernel\n",
        "import tqdm as tqdm\n",
        "from collections import defaultdict\n",
        "import pickle as pickle\n",
        "\n",
        "def get_tfidf(column):\n",
        "\ttfidf_vectorizer = TfidfVectorizer(stop_words =\"english\")\n",
        "\ttfidf_matrix = tfidf_vectorizer.fit_transform(column.values.astype(str))\n",
        "\treturn tfidf_matrix\n",
        "\n",
        "def find_similar(tfidf_matrix, index, top_n = 5):\n",
        "    cosine_similarities = linear_kernel(tfidf_matrix[index:index+1], tfidf_matrix).flatten()\n",
        "    related_docs_indices = [i for i in cosine_similarities.argsort()[::-1] if i != index]\n",
        "    return [(index, cosine_similarities[index]) for index in related_docs_indices][0:top_n]\n",
        "\n",
        "def save_obj(obj, name ):\n",
        "    with open(name + '.pkl', 'wb') as f:\n",
        "        pickle.dump(obj, f, pickle.HIGHEST_PROTOCOL)\n",
        "\n",
        "def load_obj(name ):\n",
        "    with open(name + '.pkl', 'rb') as f:\n",
        "        return pickle.load(f)\t\n",
        "\n",
        "answers_file = \"CS_answers.csv\"\n",
        "df = pd.read_csv(answers_file)\n",
        "saved_column = df.Body #you can also use df['column_name']\n",
        "saved_column.fillna(\" \")\n",
        "tfidf_answers = get_tfidf(saved_column)\n",
        "\n",
        "answers_rec_dict = defaultdict(list)\n",
        "for i in tqdm.tqdm(range(saved_column.shape[0])):\n",
        "    for index, score in find_similar(tfidf_answers, i):\n",
        "        if df['Id'][i] in answers_rec_dict:\n",
        "            (answers_rec_dict[df['Id'][i]]).append((df['Id'][index],score))\n",
        "        else:\n",
        "            answers_rec_dict[df['Id'][i]] = [(df['Id'][index],score)]\n",
        "\n",
        "\n"
      ],
      "execution_count": 10,
      "outputs": [
        {
          "output_type": "stream",
          "text": [
            "100%|██████████| 35056/35056 [44:09<00:00, 13.23it/s]\n"
          ],
          "name": "stderr"
        },
        {
          "output_type": "error",
          "ename": "NameError",
          "evalue": "ignored",
          "traceback": [
            "\u001b[0;31m---------------------------------------------------------------------------\u001b[0m",
            "\u001b[0;31mNameError\u001b[0m                                 Traceback (most recent call last)",
            "\u001b[0;32m<ipython-input-10-47538908567b>\u001b[0m in \u001b[0;36m<module>\u001b[0;34m()\u001b[0m\n\u001b[1;32m     39\u001b[0m             \u001b[0manswers_rec_dict\u001b[0m\u001b[0;34m[\u001b[0m\u001b[0mdf\u001b[0m\u001b[0;34m[\u001b[0m\u001b[0;34m'Id'\u001b[0m\u001b[0;34m]\u001b[0m\u001b[0;34m[\u001b[0m\u001b[0mi\u001b[0m\u001b[0;34m]\u001b[0m\u001b[0;34m]\u001b[0m \u001b[0;34m=\u001b[0m \u001b[0;34m[\u001b[0m\u001b[0;34m(\u001b[0m\u001b[0mdf\u001b[0m\u001b[0;34m[\u001b[0m\u001b[0;34m'Id'\u001b[0m\u001b[0;34m]\u001b[0m\u001b[0;34m[\u001b[0m\u001b[0mindex\u001b[0m\u001b[0;34m]\u001b[0m\u001b[0;34m,\u001b[0m\u001b[0mscore\u001b[0m\u001b[0;34m)\u001b[0m\u001b[0;34m]\u001b[0m\u001b[0;34m\u001b[0m\u001b[0;34m\u001b[0m\u001b[0m\n\u001b[1;32m     40\u001b[0m \u001b[0;34m\u001b[0m\u001b[0m\n\u001b[0;32m---> 41\u001b[0;31m \u001b[0msave_obj\u001b[0m\u001b[0;34m(\u001b[0m\u001b[0mquestions_rec_dict\u001b[0m\u001b[0;34m,\u001b[0m\u001b[0;34m\"tf_idf_answers_rec\"\u001b[0m\u001b[0;34m)\u001b[0m\u001b[0;34m\u001b[0m\u001b[0;34m\u001b[0m\u001b[0m\n\u001b[0m\u001b[1;32m     42\u001b[0m \u001b[0;34m\u001b[0m\u001b[0m\n\u001b[1;32m     43\u001b[0m \u001b[0;34m\u001b[0m\u001b[0m\n",
            "\u001b[0;31mNameError\u001b[0m: name 'questions_rec_dict' is not defined"
          ]
        }
      ]
    },
    {
      "metadata": {
        "id": "ugmysT2CV8bZ",
        "colab_type": "code",
        "colab": {
          "base_uri": "https://localhost:8080/",
          "height": 34
        },
        "outputId": "54634bc1-20d4-42ee-a1ae-87d594829fe1"
      },
      "cell_type": "code",
      "source": [
        "save_obj(answers_rec_dict,\"tf_idf_answers_rec\")\n",
        "\t\t\t\n",
        "\n",
        "questions_file = \"CS_questions.csv\"\n",
        "df_ques = pd.read_csv(questions_file)\n",
        "df_question_merged = df_ques.Body.astype(str) + \" \" + df_ques.Title.astype(str) + \" \" + df_ques.Tags.astype(str)\n",
        "tfidf_questions_merged = get_tfidf(df_question_merged)\n",
        "\n",
        "questions_rec_dict = defaultdict(list)\n",
        "for i in tqdm.tqdm(range(tfidf_questions_merged.shape[0])):\n",
        "    for index, score in find_similar(tfidf_questions_merged, i):\n",
        "        if df_ques['Id'][i] in questions_rec_dict:\n",
        "            (questions_rec_dict[df_ques['Id'][i]]).append((df_ques['Id'][index],score))\n",
        "        else:\n",
        "            questions_rec_dict[df_ques['Id'][i]] = [(df_ques['Id'][index],score)]\n",
        "\n",
        "save_obj(questions_rec_dict,\"tf_idf_ques_rec\")"
      ],
      "execution_count": 11,
      "outputs": [
        {
          "output_type": "stream",
          "text": [
            "100%|██████████| 29375/29375 [29:36<00:00, 16.53it/s]\n"
          ],
          "name": "stderr"
        }
      ]
    },
    {
      "metadata": {
        "id": "aHwt8JS2ua9Q",
        "colab_type": "code",
        "colab": {}
      },
      "cell_type": "code",
      "source": [
        "import pandas as pd\n",
        "postlinksDF = pd.read_csv('postlinks.csv')"
      ],
      "execution_count": 0,
      "outputs": []
    },
    {
      "metadata": {
        "id": "f-b8SSWqua9j",
        "colab_type": "code",
        "colab": {
          "base_uri": "https://localhost:8080/",
          "height": 204
        },
        "outputId": "75d84fe7-f9d9-4916-bda3-36de4c800e5d"
      },
      "cell_type": "code",
      "source": [
        "postlinksDF.head()"
      ],
      "execution_count": 13,
      "outputs": [
        {
          "output_type": "execute_result",
          "data": {
            "text/html": [
              "<div>\n",
              "<style scoped>\n",
              "    .dataframe tbody tr th:only-of-type {\n",
              "        vertical-align: middle;\n",
              "    }\n",
              "\n",
              "    .dataframe tbody tr th {\n",
              "        vertical-align: top;\n",
              "    }\n",
              "\n",
              "    .dataframe thead th {\n",
              "        text-align: right;\n",
              "    }\n",
              "</style>\n",
              "<table border=\"1\" class=\"dataframe\">\n",
              "  <thead>\n",
              "    <tr style=\"text-align: right;\">\n",
              "      <th></th>\n",
              "      <th>Id</th>\n",
              "      <th>PostId</th>\n",
              "      <th>RelatedPostId</th>\n",
              "      <th>LinkTypeId</th>\n",
              "    </tr>\n",
              "  </thead>\n",
              "  <tbody>\n",
              "    <tr>\n",
              "      <th>0</th>\n",
              "      <td>865</td>\n",
              "      <td>155</td>\n",
              "      <td>143</td>\n",
              "      <td>1</td>\n",
              "    </tr>\n",
              "    <tr>\n",
              "      <th>1</th>\n",
              "      <td>891</td>\n",
              "      <td>143</td>\n",
              "      <td>155</td>\n",
              "      <td>1</td>\n",
              "    </tr>\n",
              "    <tr>\n",
              "      <th>2</th>\n",
              "      <td>1139</td>\n",
              "      <td>192</td>\n",
              "      <td>57</td>\n",
              "      <td>1</td>\n",
              "    </tr>\n",
              "    <tr>\n",
              "      <th>3</th>\n",
              "      <td>1789</td>\n",
              "      <td>245</td>\n",
              "      <td>256</td>\n",
              "      <td>1</td>\n",
              "    </tr>\n",
              "    <tr>\n",
              "      <th>4</th>\n",
              "      <td>2699</td>\n",
              "      <td>341</td>\n",
              "      <td>302</td>\n",
              "      <td>1</td>\n",
              "    </tr>\n",
              "  </tbody>\n",
              "</table>\n",
              "</div>"
            ],
            "text/plain": [
              "     Id  PostId  RelatedPostId  LinkTypeId\n",
              "0   865     155            143           1\n",
              "1   891     143            155           1\n",
              "2  1139     192             57           1\n",
              "3  1789     245            256           1\n",
              "4  2699     341            302           1"
            ]
          },
          "metadata": {
            "tags": []
          },
          "execution_count": 13
        }
      ]
    },
    {
      "metadata": {
        "id": "Llfhvuucua91",
        "colab_type": "code",
        "colab": {
          "base_uri": "https://localhost:8080/",
          "height": 34
        },
        "outputId": "75d1d00a-9ec1-40ca-9846-d24db8a5c8aa"
      },
      "cell_type": "code",
      "source": [
        "import tqdm \n",
        "#final list of dict to keep track of related post ids and answer ids for each question id\n",
        "postLinks = []\n",
        "#to keep track of questions that were already encountered\n",
        "posts = [] \n",
        "\n",
        "for index, row in tqdm.tqdm(postlinksDF.iterrows()):\n",
        "    temp = {'postID': None,'relatedID': [],'answerID': [] } \n",
        "    temp['postID'] = row['PostId']\n",
        "    if(row['PostId'] in posts and len(posts)!=0):\n",
        "        for i in range(0,len(posts)):\n",
        "            if(row['PostId'] == postLinks[i]['postID']):\n",
        "                postLinks[i]['relatedID'].append(row[\"RelatedPostId\"])\n",
        "                postLinks[i]['answerID'].append(row[\"Id\"])\n",
        "    else:  \n",
        "        temp['relatedID'].append(row[\"RelatedPostId\"])\n",
        "        temp['answerID'].append(row[\"Id\"])   \n",
        "        posts.append(temp['postID'])\n",
        "        postLinks.append(temp)"
      ],
      "execution_count": 14,
      "outputs": [
        {
          "output_type": "stream",
          "text": [
            "9855it [01:27, 112.65it/s]\n"
          ],
          "name": "stderr"
        }
      ]
    },
    {
      "metadata": {
        "id": "_EaOTjGxua-p",
        "colab_type": "code",
        "colab": {
          "base_uri": "https://localhost:8080/",
          "height": 34
        },
        "outputId": "778d0f55-e2dd-406d-96a8-e9a51e7e103e"
      },
      "cell_type": "code",
      "source": [
        "len(postLinks)"
      ],
      "execution_count": 15,
      "outputs": [
        {
          "output_type": "execute_result",
          "data": {
            "text/plain": [
              "6579"
            ]
          },
          "metadata": {
            "tags": []
          },
          "execution_count": 15
        }
      ]
    },
    {
      "metadata": {
        "id": "7azWlTAndq95",
        "colab_type": "code",
        "colab": {}
      },
      "cell_type": "code",
      "source": [
        "import pickle as pickle\n",
        "\n",
        "def load_obj(name ):\n",
        "    with open(name + '.pkl', 'rb') as f:\n",
        "        return pickle.load(f)\n",
        "\n",
        "tf_idf_ques_rec = load_obj(\"tf_idf_ques_rec\")\n",
        "recommended = tf_idf_ques_rec"
      ],
      "execution_count": 0,
      "outputs": []
    },
    {
      "metadata": {
        "id": "oFHDbVYjdtVH",
        "colab_type": "code",
        "colab": {
          "base_uri": "https://localhost:8080/",
          "height": 102
        },
        "outputId": "90a75a37-ce44-448f-8b62-d352e55600e7"
      },
      "cell_type": "code",
      "source": [
        "recommended[7]"
      ],
      "execution_count": 17,
      "outputs": [
        {
          "output_type": "execute_result",
          "data": {
            "text/plain": [
              "[(85662, 0.3608988407573669),\n",
              " (51954, 0.2890118160092387),\n",
              " (45188, 0.2635945608870541),\n",
              " (32703, 0.2496637310035562),\n",
              " (71993, 0.24118704749672484)]"
            ]
          },
          "metadata": {
            "tags": []
          },
          "execution_count": 17
        }
      ]
    },
    {
      "metadata": {
        "id": "KiOs6mKCua-z",
        "colab_type": "code",
        "colab": {}
      },
      "cell_type": "code",
      "source": [
        "def evaluate():\n",
        "    score  = 0\n",
        "    for i in range(0,len(postLinks)):\n",
        "        present = 0 \n",
        "        top = 0\n",
        "        count = len(postLinks[i]['relatedID'])\n",
        "        if postLinks[i]['postID'] in recommended.keys():\n",
        "            idx = 0\n",
        "            for rec in recommended[postLinks[i]['postID']]:\n",
        "                idx+=1\n",
        "                if rec[0] in postLinks[i]['relatedID']:\n",
        "                    present+=1\n",
        "                    if (idx >= int(len(postLinks[i]['relatedID'])/2)):\n",
        "                        top+=1\n",
        "            if(present):\n",
        "                score+= (0.3* (present/count)+ 0.7*(top/present))\n",
        "    return (score/len(postLinks))"
      ],
      "execution_count": 0,
      "outputs": []
    },
    {
      "metadata": {
        "id": "DF3NWzD9ua-_",
        "colab_type": "code",
        "colab": {
          "base_uri": "https://localhost:8080/",
          "height": 34
        },
        "outputId": "7abed3c8-65f3-46aa-d9f1-6d1455c1bc68"
      },
      "cell_type": "code",
      "source": [
        "evaluate()"
      ],
      "execution_count": 19,
      "outputs": [
        {
          "output_type": "execute_result",
          "data": {
            "text/plain": [
              "0.13821663972142798"
            ]
          },
          "metadata": {
            "tags": []
          },
          "execution_count": 19
        }
      ]
    },
    {
      "metadata": {
        "id": "xGbvFG1Iua_b",
        "colab_type": "code",
        "colab": {}
      },
      "cell_type": "code",
      "source": [
        "tf_idf_answers_rec = load_obj(\"tf_idf_answers_rec\")\n",
        "recommended = tf_idf_answers_rec"
      ],
      "execution_count": 0,
      "outputs": []
    },
    {
      "metadata": {
        "id": "12QSiE4ke4DU",
        "colab_type": "code",
        "colab": {
          "base_uri": "https://localhost:8080/",
          "height": 34
        },
        "outputId": "4c574dc1-1c74-433f-9132-8af9f0a91bfe"
      },
      "cell_type": "code",
      "source": [
        "evaluate()"
      ],
      "execution_count": 21,
      "outputs": [
        {
          "output_type": "execute_result",
          "data": {
            "text/plain": [
              "0.0"
            ]
          },
          "metadata": {
            "tags": []
          },
          "execution_count": 21
        }
      ]
    }
  ]
}
