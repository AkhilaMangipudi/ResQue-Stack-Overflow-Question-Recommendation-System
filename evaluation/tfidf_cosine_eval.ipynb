{
 "cells": [
  {
   "cell_type": "code",
   "execution_count": 1,
   "metadata": {},
   "outputs": [],
   "source": [
    "import pickle as pickle\n",
    "\n",
    "def load_obj(name ):\n",
    "    with open(name + '.pkl', 'rb') as f:\n",
    "        return pickle.load(f)\n",
    "\n",
    "tf_idf_ques_rec = load_obj(\"tf_idf_ques_rec\")\n",
    "recommended = tf_idf_ques_rec"
   ]
  },
  {
   "cell_type": "code",
   "execution_count": 2,
   "metadata": {},
   "outputs": [],
   "source": [
    "import pandas as pd\n",
    "postlinksDF = pd.read_csv('postlinks.csv')"
   ]
  },
  {
   "cell_type": "code",
   "execution_count": 3,
   "metadata": {},
   "outputs": [
    {
     "data": {
      "text/html": [
       "<div>\n",
       "<style scoped>\n",
       "    .dataframe tbody tr th:only-of-type {\n",
       "        vertical-align: middle;\n",
       "    }\n",
       "\n",
       "    .dataframe tbody tr th {\n",
       "        vertical-align: top;\n",
       "    }\n",
       "\n",
       "    .dataframe thead th {\n",
       "        text-align: right;\n",
       "    }\n",
       "</style>\n",
       "<table border=\"1\" class=\"dataframe\">\n",
       "  <thead>\n",
       "    <tr style=\"text-align: right;\">\n",
       "      <th></th>\n",
       "      <th>Id</th>\n",
       "      <th>PostId</th>\n",
       "      <th>RelatedPostId</th>\n",
       "      <th>LinkTypeId</th>\n",
       "    </tr>\n",
       "  </thead>\n",
       "  <tbody>\n",
       "    <tr>\n",
       "      <th>0</th>\n",
       "      <td>865</td>\n",
       "      <td>155</td>\n",
       "      <td>143</td>\n",
       "      <td>1</td>\n",
       "    </tr>\n",
       "    <tr>\n",
       "      <th>1</th>\n",
       "      <td>891</td>\n",
       "      <td>143</td>\n",
       "      <td>155</td>\n",
       "      <td>1</td>\n",
       "    </tr>\n",
       "    <tr>\n",
       "      <th>2</th>\n",
       "      <td>1139</td>\n",
       "      <td>192</td>\n",
       "      <td>57</td>\n",
       "      <td>1</td>\n",
       "    </tr>\n",
       "    <tr>\n",
       "      <th>3</th>\n",
       "      <td>1789</td>\n",
       "      <td>245</td>\n",
       "      <td>256</td>\n",
       "      <td>1</td>\n",
       "    </tr>\n",
       "    <tr>\n",
       "      <th>4</th>\n",
       "      <td>2699</td>\n",
       "      <td>341</td>\n",
       "      <td>302</td>\n",
       "      <td>1</td>\n",
       "    </tr>\n",
       "  </tbody>\n",
       "</table>\n",
       "</div>"
      ],
      "text/plain": [
       "     Id  PostId  RelatedPostId  LinkTypeId\n",
       "0   865     155            143           1\n",
       "1   891     143            155           1\n",
       "2  1139     192             57           1\n",
       "3  1789     245            256           1\n",
       "4  2699     341            302           1"
      ]
     },
     "execution_count": 3,
     "metadata": {},
     "output_type": "execute_result"
    }
   ],
   "source": [
    "postlinksDF.head()"
   ]
  },
  {
   "cell_type": "code",
   "execution_count": 5,
   "metadata": {},
   "outputs": [
    {
     "name": "stderr",
     "output_type": "stream",
     "text": [
      "9855it [01:44, 94.60it/s] \n"
     ]
    }
   ],
   "source": [
    "import tqdm \n",
    "#final list of dict to keep track of related post ids and answer ids for each question id\n",
    "postLinks = []\n",
    "#to keep track of questions that were already encountered\n",
    "posts = [] \n",
    "\n",
    "for index, row in tqdm.tqdm(postlinksDF.iterrows()):\n",
    "    temp = {'postID': None,'relatedID': [],'answerID': [] } \n",
    "    temp['postID'] = row['PostId']\n",
    "    if(row['PostId'] in posts and len(posts)!=0):\n",
    "        for i in range(0,len(posts)):\n",
    "            if(row['PostId'] == postLinks[i]['postID']):\n",
    "                postLinks[i]['relatedID'].append(row[\"RelatedPostId\"])\n",
    "                postLinks[i]['answerID'].append(row[\"Id\"])\n",
    "    else:  \n",
    "        temp['relatedID'].append(row[\"RelatedPostId\"])\n",
    "        temp['answerID'].append(row[\"Id\"])   \n",
    "        posts.append(temp['postID'])\n",
    "        postLinks.append(temp)"
   ]
  },
  {
   "cell_type": "code",
   "execution_count": 6,
   "metadata": {},
   "outputs": [
    {
     "data": {
      "text/plain": [
       "6579"
      ]
     },
     "execution_count": 6,
     "metadata": {},
     "output_type": "execute_result"
    }
   ],
   "source": [
    "len(postLinks)"
   ]
  },
  {
   "cell_type": "code",
   "execution_count": 7,
   "metadata": {},
   "outputs": [],
   "source": [
    "def evaluate():\n",
    "    score  = 0\n",
    "    for i in range(0,len(postLinks)):\n",
    "        present = 0 \n",
    "        top = 0\n",
    "        count = len(postLinks[i]['relatedID'])\n",
    "        if postLinks[i]['postID'] in recommended.keys():\n",
    "            idx = 0\n",
    "            for rec in recommended[postLinks[i]['postID']]:\n",
    "                idx+=1\n",
    "                if rec[0] in postLinks[i]['relatedID']:\n",
    "                    present+=1\n",
    "                    if (idx >= int(len(postLinks[i]['relatedID'])/2)):\n",
    "                        top+=1\n",
    "            if(present):\n",
    "                score+= (0.3* (present/count)+ 0.7*(top/present))\n",
    "    return (score/len(postLinks))"
   ]
  },
  {
   "cell_type": "code",
   "execution_count": 8,
   "metadata": {},
   "outputs": [
    {
     "data": {
      "text/plain": [
       "0.0"
      ]
     },
     "execution_count": 8,
     "metadata": {},
     "output_type": "execute_result"
    }
   ],
   "source": [
    "evaluate()"
   ]
  },
  {
   "cell_type": "code",
   "execution_count": null,
   "metadata": {},
   "outputs": [],
   "source": []
  }
 ],
 "metadata": {
  "kernelspec": {
   "display_name": "Python 3",
   "language": "python",
   "name": "python3"
  },
  "language_info": {
   "codemirror_mode": {
    "name": "ipython",
    "version": 3
   },
   "file_extension": ".py",
   "mimetype": "text/x-python",
   "name": "python",
   "nbconvert_exporter": "python",
   "pygments_lexer": "ipython3",
   "version": "3.6.5"
  }
 },
 "nbformat": 4,
 "nbformat_minor": 2
}
