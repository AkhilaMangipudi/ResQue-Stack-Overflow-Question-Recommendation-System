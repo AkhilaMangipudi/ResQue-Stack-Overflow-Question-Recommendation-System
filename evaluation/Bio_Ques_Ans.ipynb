{
  "nbformat": 4,
  "nbformat_minor": 0,
  "metadata": {
    "colab": {
      "name": "Bio_Ques_Ans.ipynb",
      "version": "0.3.2",
      "provenance": [],
      "collapsed_sections": []
    },
    "kernelspec": {
      "name": "python3",
      "display_name": "Python 3"
    }
  },
  "cells": [
    {
      "metadata": {
        "id": "CrfzAifGZGFN",
        "colab_type": "code",
        "outputId": "4db234f4-4f2b-4414-b62c-0b230256240e",
        "colab": {
          "base_uri": "https://localhost:8080/",
          "height": 34
        }
      },
      "cell_type": "code",
      "source": [
        "import pandas as pd\n",
        "import numpy as np\n",
        "from sklearn.feature_extraction.text import TfidfVectorizer\n",
        "from sklearn.metrics.pairwise import linear_kernel\n",
        "import tqdm as tqdm\n",
        "from collections import defaultdict\n",
        "import pickle as pickle\n",
        "import re\n",
        "\n",
        "def get_tfidf(column):\n",
        "\ttfidf_vectorizer = TfidfVectorizer(stop_words =\"english\")\n",
        "\ttfidf_matrix = tfidf_vectorizer.fit_transform(column.values.astype(str))\n",
        "\treturn tfidf_matrix\n",
        "\n",
        "def find_similar(tfidf_matrix, index, top_n = 20):\n",
        "    cosine_similarities = linear_kernel(tfidf_matrix[index:index+1], tfidf_matrix).flatten()\n",
        "    related_docs_indices = [i for i in cosine_similarities.argsort()[::-1] if i != index]\n",
        "    return [(index, cosine_similarities[index]) for index in related_docs_indices][0:top_n]\n",
        "\n",
        "def save_obj(obj, name ):\n",
        "    with open(name + '.pkl', 'wb') as f:\n",
        "        pickle.dump(obj, f, pickle.HIGHEST_PROTOCOL)\n",
        "\n",
        "def load_obj(name ):\n",
        "    with open(name + '.pkl', 'rb') as f:\n",
        "        return pickle.load(f)\t\n",
        "\n",
        "def processTags(temp):\n",
        "    temp = re.sub(r\"<\",\" \",temp)\n",
        "    temp = re.sub(r\">\",\" \",temp)\n",
        "    temp = temp.strip()\n",
        "    temp = temp.replace(\"  \",\" \")\n",
        "    return temp      \n",
        "      \n",
        "df_ques = pd.read_csv(\"DS_questions.csv\")\n",
        "df_ques['Tags'] = df_ques['Tags'].apply(lambda x:processTags(str(x)))\n",
        "df_question_merged = df_ques.Body.astype(str) + \" \" + df_ques.Title.astype(str)+ \" \"+ df_ques.Tags.astype(str)\n",
        "saved_column = df_question_merged #you can also use df['column_name']\n",
        "saved_column.fillna(\" \")\n",
        "tfidf_ds_ques = get_tfidf(saved_column)\n",
        "\n",
        "ds_answers_rec_dict = defaultdict(list)\n",
        "for i in tqdm.tqdm(range(saved_column.shape[0])):\n",
        "    for index, score in find_similar(tfidf_ds_ques, i):\n",
        "        if df_ques['Id'][i] in ds_answers_rec_dict:\n",
        "            (ds_answers_rec_dict[df_ques['Id'][i]]).append((df_ques['Id'][index],score))\n",
        "        else:\n",
        "            ds_answers_rec_dict[df_ques['Id'][i]] = [(df_ques['Id'][index],score)]\n",
        "\n",
        "save_obj(ds_answers_rec_dict,\"tf_idf_ds_ques_rec\")"
      ],
      "execution_count": 3,
      "outputs": [
        {
          "output_type": "stream",
          "text": [
            "100%|██████████| 14481/14481 [13:20<00:00, 18.09it/s]\n"
          ],
          "name": "stderr"
        }
      ]
    },
    {
      "metadata": {
        "id": "ASt3MmNfZJQY",
        "colab_type": "code",
        "colab": {}
      },
      "cell_type": "code",
      "source": [
        "import pandas as pd\n",
        "postlinksDF = pd.read_csv('postlinks.csv')"
      ],
      "execution_count": 0,
      "outputs": []
    },
    {
      "metadata": {
        "id": "Wy_XaUuT1-9v",
        "colab_type": "code",
        "colab": {
          "base_uri": "https://localhost:8080/",
          "height": 34
        },
        "outputId": "ccb82cc7-bac0-40c5-f668-6618d0555438"
      },
      "cell_type": "code",
      "source": [
        "import tqdm \n",
        "#final list of dict to keep track of related post ids and answer ids for each question id\n",
        "postLinks = []\n",
        "#to keep track of questions that were already encountered\n",
        "posts = [] \n",
        "\n",
        "for index, row in tqdm.tqdm(postlinksDF.iterrows()):\n",
        "    temp = {'postID': None,'relatedID': [],'answerID': [] } \n",
        "    temp['postID'] = row['PostId']\n",
        "    if(row['PostId'] in posts and len(posts)!=0):\n",
        "        for i in range(0,len(posts)):\n",
        "            if(row['PostId'] == postLinks[i]['postID']):\n",
        "                postLinks[i]['relatedID'].append(row[\"RelatedPostId\"])\n",
        "                postLinks[i]['answerID'].append(row[\"Id\"])\n",
        "    else:  \n",
        "        temp['relatedID'].append(row[\"RelatedPostId\"])\n",
        "        temp['answerID'].append(row[\"Id\"])   \n",
        "        posts.append(temp['postID'])\n",
        "        postLinks.append(temp)"
      ],
      "execution_count": 23,
      "outputs": [
        {
          "output_type": "stream",
          "text": [
            "5292it [00:32, 162.62it/s]\n"
          ],
          "name": "stderr"
        }
      ]
    },
    {
      "metadata": {
        "id": "x__mI0D42CaM",
        "colab_type": "code",
        "colab": {}
      },
      "cell_type": "code",
      "source": [
        "import pickle as pickle\n",
        "\n",
        "def load_obj(name ):\n",
        "    with open(name + '.pkl', 'rb') as f:\n",
        "        return pickle.load(f)\n",
        "\n",
        "tf_idf_bio_ques_rec = load_obj(\"tf_idf_bio_ques_rec\")\n",
        "tf_idf_bio_answers_rec = load_obj(\"tf_idf_bio_answers_rec\")"
      ],
      "execution_count": 0,
      "outputs": []
    },
    {
      "metadata": {
        "id": "CyQJZYma2Epp",
        "colab_type": "code",
        "colab": {}
      },
      "cell_type": "code",
      "source": [
        "def evaluate(recommended):\n",
        "    score  = 0\n",
        "    for i in range(0,len(postLinks)):\n",
        "        present = 0 \n",
        "        top = 0\n",
        "        count = len(postLinks[i]['relatedID'])\n",
        "        if postLinks[i]['postID'] in recommended.keys():\n",
        "            idx = 0\n",
        "            for rec in recommended[postLinks[i]['postID']]:\n",
        "                idx+=1\n",
        "                if rec[0] in postLinks[i]['relatedID']:\n",
        "                    present+=1\n",
        "                    if (idx >= int(len(postLinks[i]['relatedID'])/2)):\n",
        "                        top+=1\n",
        "            if(present):\n",
        "                score+= (0.3* (present/count)+ 0.7*(top/present))\n",
        "    return (score/len(postLinks))"
      ],
      "execution_count": 0,
      "outputs": []
    },
    {
      "metadata": {
        "id": "K-q6G7zx2IA-",
        "colab_type": "code",
        "colab": {
          "base_uri": "https://localhost:8080/",
          "height": 34
        },
        "outputId": "04a460ca-b5d0-4671-897c-90568ebfbcbf"
      },
      "cell_type": "code",
      "source": [
        "evaluate(tf_idf_bio_ques_rec)*100"
      ],
      "execution_count": 26,
      "outputs": [
        {
          "output_type": "execute_result",
          "data": {
            "text/plain": [
              "32.713693636158"
            ]
          },
          "metadata": {
            "tags": []
          },
          "execution_count": 26
        }
      ]
    },
    {
      "metadata": {
        "id": "lR6yPnk6UC3y",
        "colab_type": "code",
        "colab": {
          "base_uri": "https://localhost:8080/",
          "height": 34
        },
        "outputId": "6a30edde-8621-47e1-c975-59cc2696e3bb"
      },
      "cell_type": "code",
      "source": [
        "evaluate(tf_idf_bio_answers_rec)*100"
      ],
      "execution_count": 27,
      "outputs": [
        {
          "output_type": "execute_result",
          "data": {
            "text/plain": [
              "39.184702874350585"
            ]
          },
          "metadata": {
            "tags": []
          },
          "execution_count": 27
        }
      ]
    },
    {
      "metadata": {
        "id": "xvZIPio92K-O",
        "colab_type": "code",
        "colab": {}
      },
      "cell_type": "code",
      "source": [
        "def combine(ans_recommendations,ques_recommendations):\n",
        "    ques_ans_recommendations = {}\n",
        "    for key,val in ans_recommendations.items():\n",
        "        if key in ques_ans_recommendations.keys():\n",
        "            ques_ans_recommendations[key].extend(ans_recommendations[key])\n",
        "        else:\n",
        "            ques_ans_recommendations[key] = ans_recommendations[key]\n",
        "    for key,val in ques_recommendations.items():\n",
        "        if key in ques_ans_recommendations.keys():\n",
        "            ques_ans_recommendations[key].extend(ques_recommendations[key])\n",
        "        else:\n",
        "            ques_ans_recommendations[key] = ques_recommendations[key]\n",
        "    return ques_ans_recommendations"
      ],
      "execution_count": 0,
      "outputs": []
    },
    {
      "metadata": {
        "id": "ql5dYQzP43Iv",
        "colab_type": "code",
        "colab": {}
      },
      "cell_type": "code",
      "source": [
        "bio_qa_rec = combine(tf_idf_bio_answers_rec,tf_idf_bio_ques_rec)"
      ],
      "execution_count": 0,
      "outputs": []
    },
    {
      "metadata": {
        "id": "h3gwJbBfUZjh",
        "colab_type": "code",
        "colab": {}
      },
      "cell_type": "code",
      "source": [
        "save_obj(bio_qa_rec,\"bio_qa_rec\")"
      ],
      "execution_count": 0,
      "outputs": []
    },
    {
      "metadata": {
        "id": "181R1GlWezcD",
        "colab_type": "code",
        "colab": {
          "base_uri": "https://localhost:8080/",
          "height": 34
        },
        "outputId": "8d5ee2fc-bc28-46eb-ad06-ed356300930f"
      },
      "cell_type": "code",
      "source": [
        "evaluate(bio_qa_rec)*100"
      ],
      "execution_count": 32,
      "outputs": [
        {
          "output_type": "execute_result",
          "data": {
            "text/plain": [
              "59.87307907236617"
            ]
          },
          "metadata": {
            "tags": []
          },
          "execution_count": 32
        }
      ]
    },
    {
      "metadata": {
        "id": "uHoDlge95HBF",
        "colab_type": "code",
        "colab": {
          "base_uri": "https://localhost:8080/",
          "height": 697
        },
        "outputId": "057e4fbf-4ae8-454f-e72e-06d777e5707e"
      },
      "cell_type": "code",
      "source": [
        "qa_rec[1]"
      ],
      "execution_count": 18,
      "outputs": [
        {
          "output_type": "execute_result",
          "data": {
            "text/plain": [
              "[(6933, 0.36122968190390464),\n",
              " (166, 0.3212270470119691),\n",
              " (56685, 0.3068955474272252),\n",
              " (9991, 0.28159825774901304),\n",
              " (46416, 0.2237425413630964),\n",
              " (77849, 0.21352466800710193),\n",
              " (30029, 0.21184705417649854),\n",
              " (1629, 0.19020553948502805),\n",
              " (56523, 0.18663062118954066),\n",
              " (30220, 0.18589726688663294),\n",
              " (1525, 0.18114921720575441),\n",
              " (1152, 0.17778282391891317),\n",
              " (39257, 0.17466879726981482),\n",
              " (38919, 0.17353996877713557),\n",
              " (46427, 0.17150704005692913),\n",
              " (2112, 0.169968054243188),\n",
              " (66442, 0.1668997471942932),\n",
              " (7835, 0.15744785349915),\n",
              " (54974, 0.15167228355144546),\n",
              " (9990, 0.14875541996487895),\n",
              " (1736, 0.4798247877202296),\n",
              " (9991, 0.46032680848804475),\n",
              " (70202, 0.3547780812098047),\n",
              " (7333, 0.35350804503472966),\n",
              " (39257, 0.34577644460072177),\n",
              " (604, 0.34385001634846385),\n",
              " (56607, 0.3418567776397122),\n",
              " (72832, 0.3388487540654707),\n",
              " (56523, 0.33155854804043894),\n",
              " (15059, 0.3283176150551441),\n",
              " (3515, 0.32398464423667206),\n",
              " (56939, 0.3189667372267104),\n",
              " (10062, 0.31867161523365817),\n",
              " (31094, 0.3111987004369125),\n",
              " (68693, 0.29920373894828234),\n",
              " (10885, 0.29582984899607),\n",
              " (7836, 0.2763909222257365),\n",
              " (72589, 0.27435790612592603),\n",
              " (40760, 0.2694787172160888),\n",
              " (55499, 0.2683077514494101)]"
            ]
          },
          "metadata": {
            "tags": []
          },
          "execution_count": 18
        }
      ]
    },
    {
      "metadata": {
        "id": "rJ2_Wbbs5Kbk",
        "colab_type": "code",
        "colab": {}
      },
      "cell_type": "code",
      "source": [
        ""
      ],
      "execution_count": 0,
      "outputs": []
    }
  ]
}