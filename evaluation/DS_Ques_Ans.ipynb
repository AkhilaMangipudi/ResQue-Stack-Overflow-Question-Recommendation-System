{
  "nbformat": 4,
  "nbformat_minor": 0,
  "metadata": {
    "colab": {
      "name": "DS_Ques_Ans.ipynb",
      "version": "0.3.2",
      "provenance": [],
      "collapsed_sections": []
    },
    "kernelspec": {
      "name": "python3",
      "display_name": "Python 3"
    }
  },
  "cells": [
    {
      "metadata": {
        "id": "FBUQYLrg10fz",
        "colab_type": "code",
        "colab": {}
      },
      "cell_type": "code",
      "source": [
        "import pandas as pd\n",
        "import numpy as np\n",
        "from sklearn.feature_extraction.text import TfidfVectorizer\n",
        "from sklearn.metrics.pairwise import linear_kernel\n",
        "import tqdm as tqdm\n",
        "from collections import defaultdict\n",
        "import pickle as pickle\n",
        "import re\n",
        "\n",
        "def get_tfidf(column):\n",
        "\ttfidf_vectorizer = TfidfVectorizer(stop_words =\"english\")\n",
        "\ttfidf_matrix = tfidf_vectorizer.fit_transform(column.values.astype(str))\n",
        "\treturn tfidf_matrix\n",
        "\n",
        "def find_similar(tfidf_matrix, index, top_n = 20):\n",
        "    cosine_similarities = linear_kernel(tfidf_matrix[index:index+1], tfidf_matrix).flatten()\n",
        "    related_docs_indices = [i for i in cosine_similarities.argsort()[::-1] if i != index]\n",
        "    return [(index, cosine_similarities[index]) for index in related_docs_indices][0:top_n]\n",
        "\n",
        "def save_obj(obj, name ):\n",
        "    with open(name + '.pkl', 'wb') as f:\n",
        "        pickle.dump(obj, f, pickle.HIGHEST_PROTOCOL)\n",
        "\n",
        "def load_obj(name ):\n",
        "    with open(name + '.pkl', 'rb') as f:\n",
        "        return pickle.load(f)\t\n",
        "\n",
        "def processTags(temp):\n",
        "    temp = re.sub(r\"<\",\" \",temp)\n",
        "    temp = re.sub(r\">\",\" \",temp)\n",
        "    temp = temp.strip()\n",
        "    temp = temp.replace(\"  \",\" \")\n",
        "    return temp      \n",
        "      \n",
        "df_ques = pd.read_csv(\"ds_questions.csv\")\n",
        "df_ques['Tags'] = df_ques['Tags'].apply(lambda x:processTags(str(x)))\n",
        "df_question_merged = df_ques.Body.astype(str) + \" \" + df_ques.Title.astype(str)+ \" \"+ df_ques.Tags.astype(str)\n"
      ],
      "execution_count": 0,
      "outputs": []
    },
    {
      "metadata": {
        "id": "9CkQAsRW23vT",
        "colab_type": "code",
        "outputId": "70ba4a9e-a818-4eae-d1c9-7a2d776ff5ea",
        "colab": {
          "base_uri": "https://localhost:8080/",
          "height": 119
        }
      },
      "cell_type": "code",
      "source": [
        "saved_column =  df_question_merged#you can also use df['column_name']\n",
        "saved_column.fillna(\" \")\n",
        "tfidf_bio_ques = get_tfidf(saved_column)\n",
        "\n",
        "saved_column.head()"
      ],
      "execution_count": 2,
      "outputs": [
        {
          "output_type": "execute_result",
          "data": {
            "text/plain": [
              "0    In prokaryotic translation critical efficient ...\n",
              "1    Does anyone suggestions prevent RNAse contamin...\n",
              "2    Tortora writes Principles Anatomy Physiology L...\n",
              "3    Various people lab prepare liter LB add kanamy...\n",
              "4    Are cases splicing machinery constructs mRNA e...\n",
              "dtype: object"
            ]
          },
          "metadata": {
            "tags": []
          },
          "execution_count": 2
        }
      ]
    },
    {
      "metadata": {
        "id": "_AHf_OwQBhH9",
        "colab_type": "code",
        "colab": {
          "base_uri": "https://localhost:8080/",
          "height": 34
        },
        "outputId": "32bea7a6-1c4c-4b04-8e10-7aca52849739"
      },
      "cell_type": "code",
      "source": [
        "ds_ques_rec_dict = defaultdict(list)\n",
        "for i in tqdm.tqdm(range(saved_column.shape[0])):\n",
        "    for index, score in find_similar(tfidf_bio_ques, i):\n",
        "        if df_ques['Id'][i] in bio_ques_rec_dict:\n",
        "            (bio_ques_rec_dict[df_ques['Id'][i]]).append((df_ques['Id'][index],score))\n",
        "        else:\n",
        "            bio_ques_rec_dict[df_ques['Id'][i]] = [(df_ques['Id'][index],score)]"
      ],
      "execution_count": 3,
      "outputs": [
        {
          "output_type": "stream",
          "text": [
            "100%|██████████| 21594/21594 [19:53<00:00, 18.10it/s]\n"
          ],
          "name": "stderr"
        }
      ]
    },
    {
      "metadata": {
        "id": "ZlL6XkXl5PJ0",
        "colab_type": "code",
        "colab": {}
      },
      "cell_type": "code",
      "source": [
        "save_obj(ds_ques_rec_dict,\"tf_idf_ds_ques_rec\")"
      ],
      "execution_count": 0,
      "outputs": []
    },
    {
      "metadata": {
        "id": "V4aq94JE3nQU",
        "colab_type": "code",
        "outputId": "4bbe702e-6cc4-4f12-fc20-6f10be943c7c",
        "colab": {
          "base_uri": "https://localhost:8080/",
          "height": 119
        }
      },
      "cell_type": "code",
      "source": [
        "answers_file = \"ds_answers.csv\"\n",
        "df = pd.read_csv(answers_file)\n",
        "\n",
        "saved_column = df.Body #you can also use df['column_name']\n",
        "saved_column.fillna(\" \")\n",
        "tfidf_bio_answers = get_tfidf(saved_column)\n",
        "\n",
        "saved_column.head()"
      ],
      "execution_count": 0,
      "outputs": [
        {
          "output_type": "execute_result",
          "data": {
            "text/plain": [
              "0    You need careful everything comes contact samp...\n",
              "1    Here tips I routinely wipe surfaces including ...\n",
              "2    Did try centrifuge tube got push liquid bottom...\n",
              "3    A quite safe way shipping plasmids put filter ...\n",
              "4    Lundholt et al describe simple trick let plate...\n",
              "Name: Body, dtype: object"
            ]
          },
          "metadata": {
            "tags": []
          },
          "execution_count": 37
        }
      ]
    },
    {
      "metadata": {
        "id": "eQs2MSPxKjp8",
        "colab_type": "code",
        "outputId": "4766f397-912e-4848-bf5f-569adef0a41f",
        "colab": {
          "base_uri": "https://localhost:8080/",
          "height": 204
        }
      },
      "cell_type": "code",
      "source": [
        "df.head()"
      ],
      "execution_count": 0,
      "outputs": [
        {
          "output_type": "execute_result",
          "data": {
            "text/html": [
              "<div>\n",
              "<style scoped>\n",
              "    .dataframe tbody tr th:only-of-type {\n",
              "        vertical-align: middle;\n",
              "    }\n",
              "\n",
              "    .dataframe tbody tr th {\n",
              "        vertical-align: top;\n",
              "    }\n",
              "\n",
              "    .dataframe thead th {\n",
              "        text-align: right;\n",
              "    }\n",
              "</style>\n",
              "<table border=\"1\" class=\"dataframe\">\n",
              "  <thead>\n",
              "    <tr style=\"text-align: right;\">\n",
              "      <th></th>\n",
              "      <th>Id</th>\n",
              "      <th>ParentId</th>\n",
              "      <th>Score</th>\n",
              "      <th>Body</th>\n",
              "      <th>CommentCount</th>\n",
              "    </tr>\n",
              "  </thead>\n",
              "  <tbody>\n",
              "    <tr>\n",
              "      <th>0</th>\n",
              "      <td>12</td>\n",
              "      <td>2</td>\n",
              "      <td>14</td>\n",
              "      <td>You need careful everything comes contact samp...</td>\n",
              "      <td>0</td>\n",
              "    </tr>\n",
              "    <tr>\n",
              "      <th>1</th>\n",
              "      <td>14</td>\n",
              "      <td>2</td>\n",
              "      <td>13</td>\n",
              "      <td>Here tips I routinely wipe surfaces including ...</td>\n",
              "      <td>0</td>\n",
              "    </tr>\n",
              "    <tr>\n",
              "      <th>2</th>\n",
              "      <td>17</td>\n",
              "      <td>9</td>\n",
              "      <td>13</td>\n",
              "      <td>Did try centrifuge tube got push liquid bottom...</td>\n",
              "      <td>0</td>\n",
              "    </tr>\n",
              "    <tr>\n",
              "      <th>3</th>\n",
              "      <td>18</td>\n",
              "      <td>9</td>\n",
              "      <td>18</td>\n",
              "      <td>A quite safe way shipping plasmids put filter ...</td>\n",
              "      <td>3</td>\n",
              "    </tr>\n",
              "    <tr>\n",
              "      <th>4</th>\n",
              "      <td>20</td>\n",
              "      <td>13</td>\n",
              "      <td>13</td>\n",
              "      <td>Lundholt et al describe simple trick let plate...</td>\n",
              "      <td>0</td>\n",
              "    </tr>\n",
              "  </tbody>\n",
              "</table>\n",
              "</div>"
            ],
            "text/plain": [
              "   Id  ParentId  Score                                               Body  \\\n",
              "0  12         2     14  You need careful everything comes contact samp...   \n",
              "1  14         2     13  Here tips I routinely wipe surfaces including ...   \n",
              "2  17         9     13  Did try centrifuge tube got push liquid bottom...   \n",
              "3  18         9     18  A quite safe way shipping plasmids put filter ...   \n",
              "4  20        13     13  Lundholt et al describe simple trick let plate...   \n",
              "\n",
              "   CommentCount  \n",
              "0             0  \n",
              "1             0  \n",
              "2             0  \n",
              "3             3  \n",
              "4             0  "
            ]
          },
          "metadata": {
            "tags": []
          },
          "execution_count": 38
        }
      ]
    },
    {
      "metadata": {
        "id": "exMmh1v23U5u",
        "colab_type": "code",
        "colab": {}
      },
      "cell_type": "code",
      "source": [
        "ds_answers_rec_dict = defaultdict(list)\n",
        "for i in tqdm.tqdm(range(saved_column.shape[0])):\n",
        "    for index, score in find_similar(tfidf_bio_answers, i):\n",
        "        if df['ParentId'][i] in bio_answers_rec_dict:\n",
        "            (bio_answers_rec_dict[df['ParentId'][i]]).append((df['ParentId'][index],score))\n",
        "        else:\n",
        "            bio_answers_rec_dict[df['ParentId'][i]] = [(df['ParentId'][index],score)]"
      ],
      "execution_count": 0,
      "outputs": []
    },
    {
      "metadata": {
        "id": "ko9SiHbV5TJC",
        "colab_type": "code",
        "colab": {}
      },
      "cell_type": "code",
      "source": [
        "save_obj(ds_answers_rec_dict,\"tf_idf_ds_answers_rec\")"
      ],
      "execution_count": 0,
      "outputs": []
    },
    {
      "metadata": {
        "id": "zV5r3N3k7PpY",
        "colab_type": "code",
        "colab": {}
      },
      "cell_type": "code",
      "source": [
        "import pandas as pd\n",
        "postlinksDF = pd.read_csv('ds_postlinks.csv')"
      ],
      "execution_count": 0,
      "outputs": []
    },
    {
      "metadata": {
        "id": "_NNaUol97SVV",
        "colab_type": "code",
        "outputId": "1cc924a8-aa69-4ea2-cb4b-71946f12bb54",
        "colab": {
          "base_uri": "https://localhost:8080/",
          "height": 34
        }
      },
      "cell_type": "code",
      "source": [
        "import tqdm \n",
        "#final list of dict to keep track of related post ids and answer ids for each question id\n",
        "postLinks = []\n",
        "#to keep track of questions that were already encountered\n",
        "posts = [] \n",
        "\n",
        "for index, row in tqdm.tqdm(postlinksDF.iterrows()):\n",
        "    temp = {'postID': None,'relatedID': [],'answerID': [] } \n",
        "    temp['postID'] = row['PostId']\n",
        "    if(row['PostId'] in posts and len(posts)!=0):\n",
        "        for i in range(0,len(posts)):\n",
        "            if(row['PostId'] == postLinks[i]['postID']):\n",
        "                postLinks[i]['relatedID'].append(row[\"RelatedPostId\"])\n",
        "                postLinks[i]['answerID'].append(row[\"Id\"])\n",
        "    else:  \n",
        "        temp['relatedID'].append(row[\"RelatedPostId\"])\n",
        "        temp['answerID'].append(row[\"Id\"])   \n",
        "        posts.append(temp['postID'])\n",
        "        postLinks.append(temp)"
      ],
      "execution_count": 7,
      "outputs": [
        {
          "output_type": "stream",
          "text": [
            "1307it [00:01, 1038.30it/s]\n"
          ],
          "name": "stderr"
        }
      ]
    },
    {
      "metadata": {
        "id": "BLhKzBT17UgC",
        "colab_type": "code",
        "colab": {}
      },
      "cell_type": "code",
      "source": [
        "import pickle as pickle\n",
        "\n",
        "def load_obj(name ):\n",
        "    with open(name + '.pkl', 'rb') as f:\n",
        "        return pickle.load(f)\n",
        "\n",
        "tf_idf_ds_ques_rec = load_obj(\"tf_idf_ds_ques_rec\")\n",
        "tf_idf_ds_answers_rec = load_obj(\"tf_idf_ds_answers_rec\")"
      ],
      "execution_count": 0,
      "outputs": []
    },
    {
      "metadata": {
        "id": "YUkbqvfc7WDT",
        "colab_type": "code",
        "colab": {}
      },
      "cell_type": "code",
      "source": [
        "def evaluate(recommended):\n",
        "    score  = 0\n",
        "    for i in range(0,len(postLinks)):\n",
        "        present = 0 \n",
        "        top = 0\n",
        "        count = len(postLinks[i]['relatedID'])\n",
        "        if postLinks[i]['postID'] in recommended.keys():\n",
        "            idx = 0\n",
        "            for rec in recommended[postLinks[i]['postID']]:\n",
        "                idx+=1\n",
        "                if rec[0] in postLinks[i]['relatedID']:\n",
        "                    present+=1\n",
        "                    if (idx >= int(len(postLinks[i]['relatedID'])/2)):\n",
        "                        top+=1\n",
        "            if(present):\n",
        "                score+= (0.3* (present/count)+ 0.7*(top/present))\n",
        "    return (score/len(postLinks))"
      ],
      "execution_count": 0,
      "outputs": []
    },
    {
      "metadata": {
        "id": "7ossnjPa7Wxl",
        "colab_type": "code",
        "outputId": "61e4dba4-5e34-46f3-b75c-dd1112f2ee18",
        "colab": {
          "base_uri": "https://localhost:8080/",
          "height": 34
        }
      },
      "cell_type": "code",
      "source": [
        "evaluate(tf_idf_ds_ques_rec)*100"
      ],
      "execution_count": 13,
      "outputs": [
        {
          "output_type": "execute_result",
          "data": {
            "text/plain": [
              "32.48457411133468"
            ]
          },
          "metadata": {
            "tags": []
          },
          "execution_count": 13
        }
      ]
    },
    {
      "metadata": {
        "id": "Fapk2MvWDXuK",
        "colab_type": "code",
        "outputId": "3831190c-5a5a-458a-ea9e-b24c870ee806",
        "colab": {
          "base_uri": "https://localhost:8080/",
          "height": 34
        }
      },
      "cell_type": "code",
      "source": [
        "evaluate(tf_idf_ds_answers_rec)*100"
      ],
      "execution_count": 14,
      "outputs": [
        {
          "output_type": "execute_result",
          "data": {
            "text/plain": [
              "38.21673373574787"
            ]
          },
          "metadata": {
            "tags": []
          },
          "execution_count": 14
        }
      ]
    },
    {
      "metadata": {
        "id": "tcPzWoYnedUz",
        "colab_type": "code",
        "colab": {}
      },
      "cell_type": "code",
      "source": [
        "def combine(ans_recommendations,ques_recommendations):\n",
        "    ques_ans_recommendations = {}\n",
        "    for key,val in ans_recommendations.items():\n",
        "        if key in ques_ans_recommendations.keys():\n",
        "            ques_ans_recommendations[key].extend(ans_recommendations[key])\n",
        "        else:\n",
        "            ques_ans_recommendations[key] = ans_recommendations[key]\n",
        "    for key,val in ques_recommendations.items():\n",
        "        if key in ques_ans_recommendations.keys():\n",
        "            ques_ans_recommendations[key].extend(ques_recommendations[key])\n",
        "        else:\n",
        "            ques_ans_recommendations[key] = ques_recommendations[key]\n",
        "    return ques_ans_recommendations"
      ],
      "execution_count": 0,
      "outputs": []
    },
    {
      "metadata": {
        "id": "xwiwUMd8De7k",
        "colab_type": "code",
        "colab": {}
      },
      "cell_type": "code",
      "source": [
        "ds_qa_rec = combine(tf_idf_ds_answers_rec,tf_idf_ds_ques_rec)"
      ],
      "execution_count": 0,
      "outputs": []
    },
    {
      "metadata": {
        "id": "b9allsi-Eyj_",
        "colab_type": "code",
        "colab": {}
      },
      "cell_type": "code",
      "source": [
        "save_obj(ds_qa_rec,\"ds_qa_rec\")"
      ],
      "execution_count": 0,
      "outputs": []
    },
    {
      "metadata": {
        "id": "67uI4llpetGj",
        "colab_type": "code",
        "colab": {
          "base_uri": "https://localhost:8080/",
          "height": 34
        },
        "outputId": "92bc4545-f770-4f03-c8da-db1c8aff8ba8"
      },
      "cell_type": "code",
      "source": [
        "evaluate(ds_qa_rec)*100"
      ],
      "execution_count": 18,
      "outputs": [
        {
          "output_type": "execute_result",
          "data": {
            "text/plain": [
              "61.56515761234071"
            ]
          },
          "metadata": {
            "tags": []
          },
          "execution_count": 18
        }
      ]
    },
    {
      "metadata": {
        "id": "oB1g_DeJewKt",
        "colab_type": "code",
        "colab": {}
      },
      "cell_type": "code",
      "source": [
        ""
      ],
      "execution_count": 0,
      "outputs": []
    }
  ]
}