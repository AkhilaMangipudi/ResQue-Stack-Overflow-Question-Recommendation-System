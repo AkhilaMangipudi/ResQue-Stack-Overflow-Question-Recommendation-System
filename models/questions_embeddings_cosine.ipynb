{
 "cells": [
  {
   "cell_type": "code",
   "execution_count": 103,
   "metadata": {},
   "outputs": [],
   "source": [
    "cs_ques_dict = pickle.load(open(\"../clustering/cs_ques_dict.dat\",\"rb\"))\n",
    "cs_cluster_centers = pickle.load(open(\"../clustering/cs_cluster_centers.dat\",\"rb\"))\n",
    "cs_cluster_centers_indices = pickle.load(open(\"../clustering/cs_cluster_centers_indices.dat\",\"rb\"))"
   ]
  },
  {
   "cell_type": "code",
   "execution_count": 104,
   "metadata": {},
   "outputs": [
    {
     "name": "stdout",
     "output_type": "stream",
     "text": [
      "Total number of clusters:  1576\n"
     ]
    }
   ],
   "source": [
    "num_clusters = cs_cluster_centers.shape[0]\n",
    "print(\"Total number of clusters: \",num_clusters)"
   ]
  },
  {
   "cell_type": "code",
   "execution_count": 147,
   "metadata": {},
   "outputs": [],
   "source": [
    "#We have the cluster centers and also the label for each question\n",
    "#For a given cluster, find its 10 nearby clusters, sorted according to their distances\n",
    "#nearest first\n",
    "#Use euclidean distance between the cluster centers for this\n",
    "from sklearn.metrics.pairwise import euclidean_distances\n",
    "\n",
    "def computeNearByClusters(cluster_centers):\n",
    "    nearby_centers_dict = {}\n",
    "    for i in range(len(cluster_centers)):\n",
    "        #gives the distance of i-th center from all the centers\n",
    "        distances = euclidean_distances(cluster_centers,[cluster_centers[i]])\n",
    "        #sort these distances\n",
    "        nearest_10_centers_array = distances.argsort(axis=0)[1:6]\n",
    "        nearest_10_centers = []\n",
    "        for elem in nearest_10_centers_array:\n",
    "            nearest_10_centers.append(elem[0])\n",
    "        if not i in nearby_centers_dict:\n",
    "            nearby_centers_dict[i] = nearest_10_centers\n",
    "    return nearby_centers_dict"
   ]
  },
  {
   "cell_type": "code",
   "execution_count": 148,
   "metadata": {},
   "outputs": [],
   "source": [
    "#Dict where key = cluster_id, value = list of ids of 10 nearest clusters\n",
    "nearby_centers_dict = computeNearByClusters(cs_cluster_centers)"
   ]
  },
  {
   "cell_type": "code",
   "execution_count": 149,
   "metadata": {},
   "outputs": [
    {
     "name": "stdout",
     "output_type": "stream",
     "text": [
      "[1021, 1515, 1102, 1220, 1136]\n"
     ]
    }
   ],
   "source": [
    "print(nearby_centers_dict[0])"
   ]
  },
  {
   "cell_type": "code",
   "execution_count": 150,
   "metadata": {},
   "outputs": [],
   "source": [
    "#Given a cluster, find all the questions that belong to it\n",
    "\n",
    "def findAllQuestionsInACluster(num_clusters,questions_dict):\n",
    "    questions_in_a_cluster_dict = {}\n",
    "    for key, value in questions_dict.items():\n",
    "        if value[1] in questions_in_a_cluster_dict:\n",
    "            questions_in_a_cluster_dict[value[1]].append(key)\n",
    "        else:\n",
    "            questions_in_a_cluster_dict[value[1]] = [key]\n",
    "    return questions_in_a_cluster_dict\n",
    "    "
   ]
  },
  {
   "cell_type": "code",
   "execution_count": 151,
   "metadata": {},
   "outputs": [],
   "source": [
    "#dict where key = cluster_id\n",
    "#value = list of all questions present in that cluster\n",
    "questions_in_a_cluster_dict = findAllQuestionsInACluster(num_clusters,cs_ques_dict)"
   ]
  },
  {
   "cell_type": "code",
   "execution_count": 152,
   "metadata": {},
   "outputs": [
    {
     "name": "stdout",
     "output_type": "stream",
     "text": [
      "[33, 2811, 19536, 29713, 30351, 39851, 39906, 90442]\n"
     ]
    }
   ],
   "source": [
    "print(questions_in_a_cluster_dict[0])"
   ]
  },
  {
   "cell_type": "code",
   "execution_count": 116,
   "metadata": {},
   "outputs": [],
   "source": [
    "import math\n",
    "#given a question embedding, calculate its magnitude\n",
    "def computeMagnitude(embedding):\n",
    "    square_sum = 0\n",
    "    for i in range(len(embedding)):\n",
    "        if not math.isnan(embedding[i]):\n",
    "            square_sum = square_sum + (embedding[i]*embedding[i])\n",
    "    return math.sqrt(square_sum)\n",
    "\n",
    "def computeCosine(ques_1, ques_2):\n",
    "    numerator = 0\n",
    "    for i in range(len(ques_1)):\n",
    "        if not math.isnan(ques_1[i]) and not math.isnan(ques_2[i]):\n",
    "            numerator = numerator + ques_1[i]*ques_2[i]\n",
    "    denominator = computeMagnitude(ques_1) * computeMagnitude(ques_2)\n",
    "    return numerator/denominator"
   ]
  },
  {
   "cell_type": "code",
   "execution_count": 153,
   "metadata": {},
   "outputs": [],
   "source": [
    "#Given a question, find which cluster it belongs to\n",
    "#find all nearby clusters to that cluster\n",
    "#retrieve all the questions from the nearby clusters, form a list of all the questions\n",
    "#Do cosine similarity to find the questions most similar to the given question\n",
    "#return top 10 of them\n",
    "\n",
    "from sklearn.metrics.pairwise import cosine_similarity\n",
    "\n",
    "def generateQuesRecommendations(ques_id):\n",
    "    total_questions = []\n",
    "    #input is question_id\n",
    "    #cluster_label tells which cluster the question is in\n",
    "    #cs_ques_dict is a dictionary where key is ques_id and value is a tuple(embedding,label)\n",
    "    cluster_label = cs_ques_dict[ques_id][1]\n",
    "    #find the 10 nearby clusters to a given cluster\n",
    "    nearby_clusters = nearby_centers_dict[cluster_label]\n",
    "    #nearby_clusters is a list\n",
    "    for cluster in nearby_clusters:\n",
    "        total_questions.extend(questions_in_a_cluster_dict[cluster])\n",
    "    #total_questions is a list of all questions\n",
    "    #for a given question find cosine similarity with all these questions\n",
    "    cosine_scores = []\n",
    "    for ques in total_questions:\n",
    "        cosine_scores.append((ques,cosine_similarity(cs_ques_dict[ques_id][0].reshape(1,-1),cs_ques_dict[ques][0].reshape(1,-1))[0][0]))\n",
    "    cosine_scores.sort(key=lambda x: x[1],reverse=True)\n",
    "    return cosine_scores[0:10]"
   ]
  },
  {
   "cell_type": "code",
   "execution_count": 156,
   "metadata": {},
   "outputs": [],
   "source": [
    "#For a given question, generate top 10 recommendations\n",
    "#output is a dict, which has ques_id as key, and value as list of tuples\n",
    "#where each tuple consists of ques_id and cosine similarity score\n",
    "\n",
    "ques_recommendations = {}\n",
    "for key, value in cs_ques_dict.items():\n",
    "    #here key represents the question_id\n",
    "    #generate recommendation for each such question\n",
    "    ques_recommendations[key] = generateQuesRecommendations(key)"
   ]
  },
  {
   "cell_type": "code",
   "execution_count": 159,
   "metadata": {},
   "outputs": [
    {
     "data": {
      "text/plain": [
       "29375"
      ]
     },
     "execution_count": 159,
     "metadata": {},
     "output_type": "execute_result"
    }
   ],
   "source": [
    "len(ques_recommendations)"
   ]
  },
  {
   "cell_type": "code",
   "execution_count": 160,
   "metadata": {},
   "outputs": [],
   "source": [
    "pickle.dump(ques_recommendations,open(\"ques_recommendations.dat\",\"wb\"))"
   ]
  },
  {
   "cell_type": "code",
   "execution_count": null,
   "metadata": {},
   "outputs": [],
   "source": []
  }
 ],
 "metadata": {
  "kernelspec": {
   "display_name": "Python 3",
   "language": "python",
   "name": "python3"
  },
  "language_info": {
   "codemirror_mode": {
    "name": "ipython",
    "version": 3
   },
   "file_extension": ".py",
   "mimetype": "text/x-python",
   "name": "python",
   "nbconvert_exporter": "python",
   "pygments_lexer": "ipython3",
   "version": "3.6.8"
  }
 },
 "nbformat": 4,
 "nbformat_minor": 2
}
