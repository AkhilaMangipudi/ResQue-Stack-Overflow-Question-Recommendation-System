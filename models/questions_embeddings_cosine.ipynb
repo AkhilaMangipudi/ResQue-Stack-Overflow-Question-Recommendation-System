{
 "cells": [
  {
   "cell_type": "code",
   "execution_count": 65,
   "metadata": {},
   "outputs": [
    {
     "data": {
      "text/plain": [
       "'\\n#Datascience dataset for question body + title +tag\\nques_dict = pickle.load(open(\"../clustering/n_ds_withtags_ques_dict.dat\",\"rb\"))\\ncluster_centers = pickle.load(open(\"../clustering/n_ds_withtags_cluster_centers.dat\",\"rb\"))\\n#cs_cluster_centers_indices = pickle.load(open(\"../clustering/bio_cluster_centers_indices.dat\",\"rb\"))\\n\\n#Datascience dataset for question body + title\\nques_dict = pickle.load(open(\"../clustering/n_ds_withouttags_ques_dict.dat\",\"rb\"))\\ncluster_centers = pickle.load(open(\"../clustering/n_ds_withouttags_cluster_centers.dat\",\"rb\"))\\n\\n#Datascience dataset for question title\\nques_dict = pickle.load(open(\"../clustering/n_ds_onlytitle_ques_dict.dat\",\"rb\"))\\ncluster_centers = pickle.load(open(\"../clustering/n_ds_onlytitle_cluster_centers.dat\",\"rb\"))\\n\\n#Biology dataset for question body + title\\ncs_ques_dict = pickle.load(open(\"../clustering/bio_ques_dict.dat\",\"rb\"))\\ncs_cluster_centers = pickle.load(open(\"../clustering/bio_cluster_centers.dat\",\"rb\"))\\n#cs_cluster_centers_indices = pickle.load(open(\"../clustering/bio_cluster_centers_indices.dat\",\"rb\"))\\n\\n#Biology dataset for question title only\\nques_dict = pickle.load(open(\"../clustering/bio_onlytitle_ques_dict.dat\",\"rb\"))\\ncluster_centers = pickle.load(open(\"../clustering/bio_onlytitle_cluster_centers.dat\",\"rb\"))\\n#cluster_centers_indices = pickle.load(open(\"../clustering/bio_onlytitle_cluster_centers_indices.dat\",\"rb\"))\\n\\n#Biology dataset for answer only\\nans_dict = pickle.load(open(\"../clustering/biology_ans_dict.dat\",\"rb\"))\\nans_cluster_centers = pickle.load(open(\"../clustering/biology_ans_cluster_centers.dat\",\"rb\"))\\nans_cluster_centers_indices = pickle.load(open(\"../clustering/biology_ans_cluster_centers_indices.dat\",\"rb\"))\\n\\n#Biology dataset for answer only (normalized)\\nans_dict = pickle.load(open(\"../clustering/n_bio_ans_dict.dat\",\"rb\"))\\nans_cluster_centers = pickle.load(open(\"../clustering/n_bio_ans_cluster_centers.dat\",\"rb\"))\\n\\n#Biology dataset for questions title only (normalized)\\nques_dict = pickle.load(open(\"../clustering/n_bio_onlytitle_ques_dict.dat\",\"rb\"))\\ncluster_centers = pickle.load(open(\"../clustering/n_bio_onlytitle_cluster_centers.dat\",\"rb\"))\\n\\n#Biology dataset for questions title only (normalized)\\nques_dict = pickle.load(open(\"../clustering/n_bio_withtags_ques_dict.dat\",\"rb\"))\\ncluster_centers = pickle.load(open(\"../clustering/n_bio_withtags_cluster_centers.dat\",\"rb\"))\\n'"
      ]
     },
     "execution_count": 65,
     "metadata": {},
     "output_type": "execute_result"
    }
   ],
   "source": [
    "import pickle\n",
    "\n",
    "#Datascience dataset for answer only (normalized)\n",
    "ans_dict = pickle.load(open(\"../clustering/n_ds_ans_dict.dat\",\"rb\"))\n",
    "ans_cluster_centers = pickle.load(open(\"../clustering/n_ds_ans_cluster_centers.dat\",\"rb\"))\n",
    "\n",
    "'''\n",
    "#Datascience dataset for question body + title +tag\n",
    "ques_dict = pickle.load(open(\"../clustering/n_ds_withtags_ques_dict.dat\",\"rb\"))\n",
    "cluster_centers = pickle.load(open(\"../clustering/n_ds_withtags_cluster_centers.dat\",\"rb\"))\n",
    "#cs_cluster_centers_indices = pickle.load(open(\"../clustering/bio_cluster_centers_indices.dat\",\"rb\"))\n",
    "\n",
    "#Datascience dataset for question body + title\n",
    "ques_dict = pickle.load(open(\"../clustering/n_ds_withouttags_ques_dict.dat\",\"rb\"))\n",
    "cluster_centers = pickle.load(open(\"../clustering/n_ds_withouttags_cluster_centers.dat\",\"rb\"))\n",
    "\n",
    "#Datascience dataset for question title\n",
    "ques_dict = pickle.load(open(\"../clustering/n_ds_onlytitle_ques_dict.dat\",\"rb\"))\n",
    "cluster_centers = pickle.load(open(\"../clustering/n_ds_onlytitle_cluster_centers.dat\",\"rb\"))\n",
    "\n",
    "#Biology dataset for question body + title\n",
    "cs_ques_dict = pickle.load(open(\"../clustering/bio_ques_dict.dat\",\"rb\"))\n",
    "cs_cluster_centers = pickle.load(open(\"../clustering/bio_cluster_centers.dat\",\"rb\"))\n",
    "#cs_cluster_centers_indices = pickle.load(open(\"../clustering/bio_cluster_centers_indices.dat\",\"rb\"))\n",
    "\n",
    "#Biology dataset for question title only\n",
    "ques_dict = pickle.load(open(\"../clustering/bio_onlytitle_ques_dict.dat\",\"rb\"))\n",
    "cluster_centers = pickle.load(open(\"../clustering/bio_onlytitle_cluster_centers.dat\",\"rb\"))\n",
    "#cluster_centers_indices = pickle.load(open(\"../clustering/bio_onlytitle_cluster_centers_indices.dat\",\"rb\"))\n",
    "\n",
    "#Biology dataset for answer only\n",
    "ans_dict = pickle.load(open(\"../clustering/biology_ans_dict.dat\",\"rb\"))\n",
    "ans_cluster_centers = pickle.load(open(\"../clustering/biology_ans_cluster_centers.dat\",\"rb\"))\n",
    "ans_cluster_centers_indices = pickle.load(open(\"../clustering/biology_ans_cluster_centers_indices.dat\",\"rb\"))\n",
    "\n",
    "#Biology dataset for answer only (normalized)\n",
    "ans_dict = pickle.load(open(\"../clustering/n_bio_ans_dict.dat\",\"rb\"))\n",
    "ans_cluster_centers = pickle.load(open(\"../clustering/n_bio_ans_cluster_centers.dat\",\"rb\"))\n",
    "\n",
    "#Biology dataset for questions title only (normalized)\n",
    "ques_dict = pickle.load(open(\"../clustering/n_bio_onlytitle_ques_dict.dat\",\"rb\"))\n",
    "cluster_centers = pickle.load(open(\"../clustering/n_bio_onlytitle_cluster_centers.dat\",\"rb\"))\n",
    "\n",
    "#Biology dataset for questions title only (normalized)\n",
    "ques_dict = pickle.load(open(\"../clustering/n_bio_withtags_ques_dict.dat\",\"rb\"))\n",
    "cluster_centers = pickle.load(open(\"../clustering/n_bio_withtags_cluster_centers.dat\",\"rb\"))\n",
    "'''\n"
   ]
  },
  {
   "cell_type": "code",
   "execution_count": 59,
   "metadata": {},
   "outputs": [
    {
     "name": "stdout",
     "output_type": "stream",
     "text": [
      "Total number of clusters:  1014\n"
     ]
    }
   ],
   "source": [
    "num_clusters = cluster_centers.shape[0]\n",
    "print(\"Total number of clusters: \",num_clusters)"
   ]
  },
  {
   "cell_type": "code",
   "execution_count": 66,
   "metadata": {},
   "outputs": [
    {
     "name": "stdout",
     "output_type": "stream",
     "text": [
      "Total number of answer clusters:  785\n"
     ]
    }
   ],
   "source": [
    "ans_num_clusters = ans_cluster_centers.shape[0]\n",
    "print(\"Total number of answer clusters: \",ans_num_clusters)"
   ]
  },
  {
   "cell_type": "code",
   "execution_count": 50,
   "metadata": {},
   "outputs": [],
   "source": [
    "#We have the cluster centers and also the label for each question\n",
    "#For a given cluster, find its 10 nearby clusters, sorted according to their distances\n",
    "#nearest first\n",
    "#Use euclidean distance between the cluster centers for this\n",
    "from sklearn.metrics.pairwise import euclidean_distances\n",
    "\n",
    "def computeNearByClusters(cluster_centers):\n",
    "    nearby_centers_dict = {}\n",
    "    for i in range(len(cluster_centers)):\n",
    "        #gives the distance of i-th center from all the centers\n",
    "        distances = euclidean_distances(cluster_centers,[cluster_centers[i]])\n",
    "        #sort these distances\n",
    "        nearest_10_centers_array = distances.argsort(axis=0)[0:6]\n",
    "        nearest_10_centers = []\n",
    "        for elem in nearest_10_centers_array:\n",
    "            nearest_10_centers.append(elem[0])\n",
    "        if not i in nearby_centers_dict:\n",
    "            nearby_centers_dict[i] = nearest_10_centers\n",
    "    return nearby_centers_dict"
   ]
  },
  {
   "cell_type": "code",
   "execution_count": 60,
   "metadata": {},
   "outputs": [],
   "source": [
    "#Dict where key = cluster_id, value = list of ids of 10 nearest clusters\n",
    "nearby_centers_dict = computeNearByClusters(cluster_centers)"
   ]
  },
  {
   "cell_type": "code",
   "execution_count": 7,
   "metadata": {},
   "outputs": [],
   "source": [
    "pickle.dump(nearby_centers_dict,open(\"bio_nearby_centers_dict.dat\",\"wb\"))"
   ]
  },
  {
   "cell_type": "code",
   "execution_count": 67,
   "metadata": {},
   "outputs": [],
   "source": [
    "ans_nearby_centers_dict = computeNearByClusters(ans_cluster_centers)"
   ]
  },
  {
   "cell_type": "code",
   "execution_count": 165,
   "metadata": {},
   "outputs": [
    {
     "name": "stdout",
     "output_type": "stream",
     "text": [
      "[0, 796, 698, 24, 1129, 460]\n"
     ]
    }
   ],
   "source": [
    "print(nearby_centers_dict[0])"
   ]
  },
  {
   "cell_type": "code",
   "execution_count": 52,
   "metadata": {},
   "outputs": [],
   "source": [
    "#Given a cluster, find all the questions/answers that belong to it\n",
    "def findAllInCluster(num_clusters,dictionary):\n",
    "    cluster_dict = {}\n",
    "    for key, value in dictionary.items():\n",
    "        if value[1] in cluster_dict:\n",
    "            cluster_dict[value[1]].append(key)\n",
    "        else:\n",
    "            cluster_dict[value[1]] = [key]\n",
    "    return cluster_dict\n",
    "    "
   ]
  },
  {
   "cell_type": "code",
   "execution_count": 61,
   "metadata": {},
   "outputs": [],
   "source": [
    "#dict where key = cluster_id\n",
    "#value = list of all questions present in that cluster\n",
    "questions_in_a_cluster_dict= {}\n",
    "questions_in_a_cluster_dict = findAllInCluster(num_clusters,ques_dict)"
   ]
  },
  {
   "cell_type": "code",
   "execution_count": 10,
   "metadata": {},
   "outputs": [],
   "source": [
    "pickle.dump(questions_in_a_cluster_dict,open(\"n_ds_withouttags_questions_in_a_cluster_dict.dat\",\"wb\"))"
   ]
  },
  {
   "cell_type": "code",
   "execution_count": 68,
   "metadata": {
    "scrolled": false
   },
   "outputs": [],
   "source": [
    "answers_in_a_cluster_dict={}\n",
    "answers_in_a_cluster_dict = findAllInCluster(ans_num_clusters,ans_dict)"
   ]
  },
  {
   "cell_type": "code",
   "execution_count": 169,
   "metadata": {},
   "outputs": [
    {
     "name": "stdout",
     "output_type": "stream",
     "text": [
      "[1, 1152, 7559, 8743, 9992, 20450, 21146, 36405, 43802, 46427, 48907, 56523, 67692, 69685, 70819, 71400, 72589, 73671, 80603, 80659]\n",
      "[30, 59, 13544, 21280, 31736, 34234, 38526, 38785, 39405, 45158, 45636, 54510, 54525, 54978, 56742, 71871, 80622]\n"
     ]
    }
   ],
   "source": [
    "print(questions_in_a_cluster_dict[0])\n",
    "print(answers_in_a_cluster_dict[0])"
   ]
  },
  {
   "cell_type": "code",
   "execution_count": 62,
   "metadata": {},
   "outputs": [],
   "source": [
    "#Given a question, find which cluster it belongs to\n",
    "#find all nearby clusters to that cluster\n",
    "#retrieve all the questions from the nearby clusters, form a list of all the questions\n",
    "#Do cosine similarity to find the questions most similar to the given question\n",
    "#return top 10 of them\n",
    "\n",
    "from sklearn.metrics.pairwise import cosine_similarity\n",
    "\n",
    "def generateQuesRecommendations(ques_id):\n",
    "    total_questions = []\n",
    "    #input is question_id\n",
    "    #cluster_label tells which cluster the question is in\n",
    "    #ques_dict is a dictionary where key is ques_id and value is a tuple(embedding,label)\n",
    "    cluster_label = ques_dict[ques_id][1]\n",
    "    #find the 10 nearby clusters to a given cluster\n",
    "    nearby_clusters = nearby_centers_dict[cluster_label]\n",
    "    #nearby_clusters is a list\n",
    "    for cluster in nearby_clusters:\n",
    "        total_questions.extend(questions_in_a_cluster_dict[cluster])\n",
    "    #total_questions is a list of all questions\n",
    "    #for a given question find cosine similarity with all these questions\n",
    "    cosine_scores = []\n",
    "    for ques in total_questions:\n",
    "        cosine_scores.append((ques,cosine_similarity(ques_dict[ques_id][0].reshape(1,-1),ques_dict[ques][0].reshape(1,-1))[0][0]))\n",
    "    cosine_scores.sort(key=lambda x: x[1],reverse=True)\n",
    "    return cosine_scores[1:101]"
   ]
  },
  {
   "cell_type": "code",
   "execution_count": 69,
   "metadata": {
    "scrolled": true
   },
   "outputs": [],
   "source": [
    "import pandas as pd\n",
    "\n",
    "#answersDF = pd.read_csv('../csv_files/biology_answers.csv')\n",
    "answersDF = pd.read_csv('../csv_files/DS_answers.csv')\n",
    "\n",
    "answers ={}\n",
    "\n",
    "#Building a dictionary of answerId with associated questionId\n",
    "for index, row in answersDF.iterrows():\n",
    "    answers[row['Id']] = row['ParentId']\n",
    "    \n",
    "#lookup parentID(Question ID) for answers\n",
    "def lookupParentId(ansId):\n",
    "    return answers[ansId]\n"
   ]
  },
  {
   "cell_type": "code",
   "execution_count": 70,
   "metadata": {},
   "outputs": [],
   "source": [
    "def generateAnswerRecommendations(ans_id):\n",
    "    total_answers = []\n",
    "    #input is ans_id\n",
    "    #cluster_label tells which cluster the question is in\n",
    "    #ans_dict is a dictionary where key is ans_id and value is a tuple(embedding,label)\n",
    "    cluster_label = ans_dict[ans_id][1]\n",
    "    #find the 10 nearby clusters to a given cluster\n",
    "    nearby_clusters = ans_nearby_centers_dict[cluster_label]\n",
    "    #nearby_clusters is a list\n",
    "    for cluster in nearby_clusters:\n",
    "        total_answers.extend(answers_in_a_cluster_dict[cluster])\n",
    "    #total_questions is a list of all questions\n",
    "    #for a given question find cosine similarity with all these answers\n",
    "    #finally lookup the question id of the similar answer and store it with the cosine similarity between the answers\n",
    "    cosine_scores = []\n",
    "    for ans in total_answers:\n",
    "        que= lookupParentId(ans)\n",
    "        cosine_scores.append((que,cosine_similarity(ans_dict[ans_id][0].reshape(1,-1),ans_dict[ans][0].reshape(1,-1))[0][0]))\n",
    "    cosine_scores.sort(key=lambda x: x[1],reverse=True)\n",
    "    return cosine_scores[1:101]"
   ]
  },
  {
   "cell_type": "code",
   "execution_count": 63,
   "metadata": {},
   "outputs": [],
   "source": [
    "#For a given question, generate top 10 recommendations\n",
    "#output is a dict, which has ques_id as key, and value as list of tuples\n",
    "#where each tuple consists of ques_id and cosine similarity score\n",
    "ques_recommendations = {}\n",
    "for key, value in ques_dict.items():\n",
    "    #here key represents the question_id\n",
    "    #generate recommendation for each such question\n",
    "    ques_recommendations[key] = generateQuesRecommendations(key)\n"
   ]
  },
  {
   "cell_type": "code",
   "execution_count": 64,
   "metadata": {},
   "outputs": [],
   "source": [
    "pickle.dump(ques_recommendations,open(\"n_bio_withtags_ques_recommendations.dat\",\"wb\"))"
   ]
  },
  {
   "cell_type": "code",
   "execution_count": 71,
   "metadata": {},
   "outputs": [],
   "source": [
    "ans_recommendations = {}\n",
    "for key, value in ans_dict.items():\n",
    "    #here key represents the question_id based on answer embedding\n",
    "    #generate recommendation for each such question\n",
    "    #Based on answer similarities, find question recommendations\n",
    "    que= lookupParentId(key)\n",
    "    if que in ans_recommendations.keys():\n",
    "        ans_recommendations[que].extend(generateAnswerRecommendations(key))\n",
    "    else:\n",
    "        ans_recommendations[que] = generateAnswerRecommendations(key)"
   ]
  },
  {
   "cell_type": "code",
   "execution_count": 72,
   "metadata": {},
   "outputs": [
    {
     "data": {
      "text/plain": [
       "10897"
      ]
     },
     "execution_count": 72,
     "metadata": {},
     "output_type": "execute_result"
    }
   ],
   "source": [
    "len(ans_recommendations)"
   ]
  },
  {
   "cell_type": "code",
   "execution_count": 73,
   "metadata": {},
   "outputs": [],
   "source": [
    "pickle.dump(ans_recommendations,open(\"n_ds_answers_recommendations.dat\",\"wb\"))"
   ]
  },
  {
   "cell_type": "code",
   "execution_count": 91,
   "metadata": {},
   "outputs": [],
   "source": [
    "#ques_recommendations = pickle.load(open(\"../models/n_bio_onlytitle_ques_recommendations.dat\",\"rb\"))\n",
    "#ques_recommendations = pickle.load(open(\"../models/n_bio_withtags_ques_recommendations.dat\",\"rb\"))\n",
    "#ques_recommendations = pickle.load(open(\"../models/n_bio_withtags_ques_recommendations.dat\",\"rb\"))\n",
    "\n",
    "#ques_recommendations = pickle.load(open(\"../models/n_ds_onlytitle_ques_recommendations.dat\",\"rb\"))\n",
    "ques_recommendations = pickle.load(open(\"../models/n_ds_ques_recommendations.dat\",\"rb\"))\n",
    "#ques_recommendations = pickle.load(open(\"../models/n_bio_withtags_ques_recommendations.dat\",\"rb\"))"
   ]
  },
  {
   "cell_type": "code",
   "execution_count": 86,
   "metadata": {},
   "outputs": [],
   "source": [
    "#ans_recommendations = pickle.load(open(\"../models/n_bio_answers_recommendations.dat\",\"rb\"))\n",
    "ans_recommendations = pickle.load(open(\"../models/n_ds_answers_recommendations.dat\",\"rb\"))"
   ]
  },
  {
   "cell_type": "code",
   "execution_count": 76,
   "metadata": {},
   "outputs": [],
   "source": [
    "def combine(ans_recommendations,ques_recommendations):\n",
    "    ques_ans_recommendations = {}\n",
    "    for key,val in ans_recommendations.items():\n",
    "        if key in ques_ans_recommendations.keys():\n",
    "            ques_ans_recommendations[key].extend(ans_recommendations[key])\n",
    "        else:\n",
    "            ques_ans_recommendations[key] = ans_recommendations[key]\n",
    "    for key,val in ques_recommendations.items():\n",
    "        if key in ques_ans_recommendations.keys():\n",
    "            ques_ans_recommendations[key].extend(ques_recommendations[key])\n",
    "        else:\n",
    "            ques_ans_recommendations[key] = ques_recommendations[key]\n",
    "    return ques_ans_recommendations\n",
    "            \n",
    "            "
   ]
  },
  {
   "cell_type": "code",
   "execution_count": 92,
   "metadata": {},
   "outputs": [],
   "source": [
    "combinedRecommendations = combine(ans_recommendations,ques_recommendations)"
   ]
  },
  {
   "cell_type": "code",
   "execution_count": 95,
   "metadata": {},
   "outputs": [],
   "source": [
    "def Sort_Tuple(tup):   \n",
    "    return(sorted(tup, key = lambda x: x[1],reverse=True))\n",
    "\n",
    "for key,value in combinedRecommendations.items():\n",
    "    temp = []\n",
    "    for tup in combinedRecommendations[key]:\n",
    "        if(key==tup[0]):\n",
    "            continue\n",
    "        else:\n",
    "            temp.append(tup)\n",
    "    combinedRecommendations[key]=set(temp)\n",
    "    t = Sort_Tuple(combinedRecommendations[key])\n",
    "    combinedRecommendations[key] = t"
   ]
  },
  {
   "cell_type": "code",
   "execution_count": 79,
   "metadata": {},
   "outputs": [],
   "source": [
    "pickle.dump(combinedRecommendations,open(\"bio_que_ans_onlytitle_recommendations.dat\",\"wb\"))"
   ]
  },
  {
   "cell_type": "code",
   "execution_count": 84,
   "metadata": {},
   "outputs": [],
   "source": [
    "pickle.dump(combinedRecommendations,open(\"bio_que_ans_withtags_recommendations.dat\",\"wb\"))"
   ]
  },
  {
   "cell_type": "code",
   "execution_count": 89,
   "metadata": {},
   "outputs": [],
   "source": [
    "pickle.dump(combinedRecommendations,open(\"ds_que_ans_onlytitle_recommendations.dat\",\"wb\"))"
   ]
  },
  {
   "cell_type": "code",
   "execution_count": 96,
   "metadata": {},
   "outputs": [],
   "source": [
    "pickle.dump(combinedRecommendations,open(\"ds_que_ans_withtags_recommendations.dat\",\"wb\"))"
   ]
  },
  {
   "cell_type": "code",
   "execution_count": null,
   "metadata": {},
   "outputs": [],
   "source": [
    "#Biology dataset - Question body and title\n",
    "pickle.dump(ques_recommendations,open(\"ques_recommendations.dat\",\"wb\"))\n",
    "pickle.dump(ans_recommendations,open(\"ans_recommendations.dat\",\"wb\"))\n",
    "pickle.dump(combinedRecommendations,open(\"que_ans_recommendations.dat\",\"wb\"))"
   ]
  },
  {
   "cell_type": "code",
   "execution_count": 158,
   "metadata": {},
   "outputs": [],
   "source": [
    "#Biology dataset - only title\n",
    "pickle.dump(ques_recommendations,open(\"title_ques_recommendations.dat\",\"wb\"))\n",
    "pickle.dump(combinedRecommendations,open(\"title_que_ans_recommendations.dat\",\"wb\"))"
   ]
  },
  {
   "cell_type": "code",
   "execution_count": 177,
   "metadata": {},
   "outputs": [],
   "source": [
    "#Biology dataset - tag+title+body\n",
    "pickle.dump(ques_recommendations,open(\"w_tags_ques_recommendations.dat\",\"wb\"))\n",
    "pickle.dump(combinedRecommendations,open(\"w_tags_que_ans_recommendations.dat\",\"wb\"))"
   ]
  }
 ],
 "metadata": {
  "kernelspec": {
   "display_name": "Python 3",
   "language": "python",
   "name": "python3"
  },
  "language_info": {
   "codemirror_mode": {
    "name": "ipython",
    "version": 3
   },
   "file_extension": ".py",
   "mimetype": "text/x-python",
   "name": "python",
   "nbconvert_exporter": "python",
   "pygments_lexer": "ipython3",
   "version": "3.7.0"
  }
 },
 "nbformat": 4,
 "nbformat_minor": 2
}
