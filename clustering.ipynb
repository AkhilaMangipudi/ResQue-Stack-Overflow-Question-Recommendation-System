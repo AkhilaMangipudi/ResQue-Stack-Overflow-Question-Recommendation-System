{
 "cells": [
  {
   "cell_type": "code",
   "execution_count": 1,
   "metadata": {},
   "outputs": [],
   "source": [
    "#Load the dat files for embeddings\n",
    "#Load the dat files from pickle\n",
    "import pickle\n",
    "cs_q_title_embeddings = pickle.load(open(\"../embeddings/biology_q_title_embeddings.dat\",\"rb\"))\n",
    "cs_q_body_embeddings = pickle.load(open(\"../embeddings/biology_q_body_embeddings.dat\",\"rb\"))\n",
    "cs_q_tags_embeddings = pickle.load(open(\"../embeddings/biology_q_tags_embeddings.dat\",\"rb\"))"
   ]
  },
  {
   "cell_type": "code",
   "execution_count": 2,
   "metadata": {},
   "outputs": [],
   "source": [
    "#ques_dict is a dictionary with key as ques_id and value as ques_embedding\n",
    "#Each question embedding is formed by adding its title, tag and body embeddings\n",
    "#after clustering, label will also be added as a tuple along with the embedding.\n",
    "\n",
    "import numpy as np\n",
    "def makeQuesDict(q_title_embeddings,q_body_embeddings,q_tags_embeddings):\n",
    "    cs_ques_dict = {}\n",
    "    for key, value in q_body_embeddings.items():\n",
    "        body_embedding = value\n",
    "        title_embedding = np.zeros(300)\n",
    "        tag_embedding = np.zeros(300)\n",
    "        if key in q_title_embeddings:\n",
    "        #this question has a title\n",
    "            title_embedding = q_title_embeddings[key]\n",
    "        if key in q_tags_embeddings:\n",
    "        #this question has a tag\n",
    "            tag_embedding = q_tags_embeddings[key]\n",
    "        final_embedding = body_embedding + title_embedding + tag_embedding\n",
    "        cs_ques_dict[key] = final_embedding\n",
    "    return cs_ques_dict"
   ]
  },
  {
   "cell_type": "code",
   "execution_count": 3,
   "metadata": {},
   "outputs": [],
   "source": [
    "cs_ques_dict = makeQuesDict(cs_q_title_embeddings,cs_q_body_embeddings,cs_q_tags_embeddings)"
   ]
  },
  {
   "cell_type": "code",
   "execution_count": 4,
   "metadata": {},
   "outputs": [
    {
     "name": "stdout",
     "output_type": "stream",
     "text": [
      "Length of ques dict is:  21594\n"
     ]
    }
   ],
   "source": [
    "print(\"Length of ques dict is: \",len(cs_ques_dict))\n",
    "#Sample question in the question_list\n",
    "#print(cs_ques_dict[4])"
   ]
  },
  {
   "cell_type": "code",
   "execution_count": 5,
   "metadata": {},
   "outputs": [],
   "source": [
    "#Clustering\n",
    "#For clustering, we only need the question embeddings\n",
    "#Make an array of just the question_embeddings to give \n",
    "#as input to clustering algorithm\n",
    "\n",
    "#this function returns\n",
    "#ques_embeddings_array: an array of question embeddings\n",
    "#ques_id_list: list of ques_id which corresponds to each embedding\n",
    "\n",
    "def makeQuesEmbeddingsArray(questions_dict):\n",
    "    ques_embeddings_array = np.zeros((len(questions_dict),300))\n",
    "    ques_id_list = []\n",
    "    i=0\n",
    "    for key, value in questions_dict.items():\n",
    "        ques_embeddings_array[i,:] = value\n",
    "        ques_id_list.append(key)\n",
    "        i = i+1\n",
    "    return ques_embeddings_array, ques_id_list"
   ]
  },
  {
   "cell_type": "code",
   "execution_count": 6,
   "metadata": {},
   "outputs": [],
   "source": [
    "cs_ques_embeddings_array, cs_ques_id_list = makeQuesEmbeddingsArray(cs_ques_dict)\n",
    "#This goes as input to the clustering algorithm"
   ]
  },
  {
   "cell_type": "code",
   "execution_count": 8,
   "metadata": {},
   "outputs": [
    {
     "name": "stdout",
     "output_type": "stream",
     "text": [
      "Input to clustering algorithm shape:  (21594, 300)\n"
     ]
    }
   ],
   "source": [
    "print(\"Input to clustering algorithm shape: \",cs_ques_embeddings_array.shape)"
   ]
  },
  {
   "cell_type": "code",
   "execution_count": null,
   "metadata": {},
   "outputs": [],
   "source": [
    "#Clustering\n",
    "from sklearn.cluster import AffinityPropagation\n",
    "clustering = AffinityPropagation().fit(cs_ques_embeddings_array)"
   ]
  },
  {
   "cell_type": "code",
   "execution_count": null,
   "metadata": {},
   "outputs": [],
   "source": [
    "clustering"
   ]
  },
  {
   "cell_type": "code",
   "execution_count": null,
   "metadata": {},
   "outputs": [],
   "source": [
    "#Append the labels of each question to the ques dict\n",
    "for key, value in cs_ques_dict.items():\n",
    "    #get the index from the ques_id_list\n",
    "    idx = cs_ques_id_list.index(key)\n",
    "    new_value = (value,clustering.labels_[idx])\n",
    "    cs_ques_dict[key] = new_value"
   ]
  },
  {
   "cell_type": "code",
   "execution_count": null,
   "metadata": {},
   "outputs": [],
   "source": [
    "#save the cluster centers\n",
    "pickle.dump(clustering.cluster_centers_,open(\"biology_cluster_centers.dat\",\"wb\"))\n",
    "pickle.dump(clustering.cluster_centers_indices_,open(\"biology_cluster_centers_indices.dat\",\"wb\"))\n",
    "pickle.dump(clustering.labels_,open(\"biology_cluster_labels.dat\",\"wb\"))\n",
    "\n",
    "#save the question_list\n",
    "pickle.dump(cs_ques_dict,open(\"biology_ques_dict.dat\",\"wb\"))\n",
    "pickle.dump(cs_ques_embeddings_array, open(\"biology_ques_embeddings_array.dat\", \"wb\"))\n",
    "pickle.dump(cs_ques_id_list,open(\"biology_ques_id_list\",\"wb\"))"
   ]
  }
 ],
 "metadata": {
  "kernelspec": {
   "display_name": "Python 3",
   "language": "python",
   "name": "python3"
  },
  "language_info": {
   "codemirror_mode": {
    "name": "ipython",
    "version": 3
   },
   "file_extension": ".py",
   "mimetype": "text/x-python",
   "name": "python",
   "nbconvert_exporter": "python",
   "pygments_lexer": "ipython3",
   "version": "3.7.0"
  }
 },
 "nbformat": 4,
 "nbformat_minor": 2
}
